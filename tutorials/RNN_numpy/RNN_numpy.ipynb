{
 "cells": [
  {
   "cell_type": "code",
   "execution_count": 1,
   "metadata": {
    "collapsed": true,
    "deletable": true,
    "editable": true
   },
   "outputs": [],
   "source": [
    "import numpy as np\n",
    "import tensorflow as tf\n",
    "%matplotlib inline\n",
    "import matplotlib.pyplot as plt"
   ]
  },
  {
   "cell_type": "code",
   "execution_count": 2,
   "metadata": {
    "collapsed": true,
    "deletable": true,
    "editable": true
   },
   "outputs": [],
   "source": [
    "import os\n",
    "os.environ[\"CUDA_DEVICE_ORDER\"]=\"PCI_BUS_ID\"   # see issue #152\n",
    "os.environ[\"CUDA_VISIBLE_DEVICES\"]=\"2\""
   ]
  },
  {
   "cell_type": "code",
   "execution_count": 6,
   "metadata": {
    "collapsed": true,
    "deletable": true,
    "editable": true
   },
   "outputs": [],
   "source": [
    "# Global config variables\n",
    "num_steps = 10 # number of truncated backprop steps ('n' in the discussion above)\n",
    "batch_size = 200\n",
    "num_classes = 2\n",
    "state_size = 4\n",
    "learning_rate = 0.1"
   ]
  },
  {
   "cell_type": "code",
   "execution_count": 7,
   "metadata": {
    "collapsed": true,
    "deletable": true,
    "editable": true
   },
   "outputs": [],
   "source": [
    "def gen_data(size=1000000):\n",
    "    X = np.array(np.random.choice(2, size=(size,)))\n",
    "    Y = []\n",
    "    for i in range(size):\n",
    "        threshold = 0.5\n",
    "        if X[i-3] == 1:\n",
    "            threshold += 0.5\n",
    "        if X[i-8] == 1:\n",
    "            threshold -= 0.25\n",
    "        if np.random.rand() > threshold:\n",
    "            Y.append(0)\n",
    "        else:\n",
    "            Y.append(1)\n",
    "    return X, np.array(Y)\n",
    "\n",
    "# adapted from https://github.com/tensorflow/tensorflow/blob/master/tensorflow/models/rnn/ptb/reader.py\n",
    "def gen_batch(raw_data, batch_size, num_steps):\n",
    "    raw_x, raw_y = raw_data\n",
    "    data_length = len(raw_x)\n",
    "\n",
    "    # partition raw data into batches and stack them vertically in a data matrix\n",
    "    batch_partition_length = data_length // batch_size\n",
    "    data_x = np.zeros([batch_size, batch_partition_length], dtype=np.int32)\n",
    "    data_y = np.zeros([batch_size, batch_partition_length], dtype=np.int32)\n",
    "    for i in range(batch_size):\n",
    "        data_x[i] = raw_x[batch_partition_length * i:batch_partition_length * (i + 1)]\n",
    "        data_y[i] = raw_y[batch_partition_length * i:batch_partition_length * (i + 1)]\n",
    "    # further divide batch partitions into num_steps for truncated backprop\n",
    "    epoch_size = batch_partition_length // num_steps\n",
    "\n",
    "    for i in range(epoch_size):\n",
    "        x = data_x[:, i * num_steps:(i + 1) * num_steps]\n",
    "        y = data_y[:, i * num_steps:(i + 1) * num_steps]\n",
    "        yield (x, y)\n",
    "\n",
    "def gen_epochs(n, num_steps):\n",
    "    for i in range(n):\n",
    "        yield gen_batch(gen_data(), batch_size, num_steps)"
   ]
  },
  {
   "cell_type": "code",
   "execution_count": 8,
   "metadata": {
    "collapsed": false,
    "deletable": true,
    "editable": true
   },
   "outputs": [],
   "source": [
    "\"\"\"\n",
    "Placeholders\n",
    "\"\"\"\n",
    "\n",
    "x = tf.placeholder(tf.int32, [batch_size, num_steps], name='input_placeholder')\n",
    "y = tf.placeholder(tf.int32, [batch_size, num_steps], name='labels_placeholder')\n",
    "init_state = tf.zeros([batch_size, state_size])\n",
    "\n",
    "\"\"\"\n",
    "RNN Inputs\n",
    "\"\"\"\n",
    "\n",
    "# Turn our x placeholder into a list of one-hot tensors:\n",
    "# rnn_inputs is a list of num_steps tensors with shape [batch_size, num_classes]\n",
    "x_one_hot = tf.one_hot(x, num_classes)\n",
    "# x ==> (200, 5)\n",
    "# x_one_hot ==> (200, 5, 2)\n",
    "rnn_inputs = tf.unstack(x_one_hot, axis=1)\n",
    "# run_inputs ==> (200, 2)"
   ]
  },
  {
   "cell_type": "markdown",
   "metadata": {
    "deletable": true,
    "editable": true
   },
   "source": [
    "### 解释unstack的意思\n",
    "这里使用unstack是为了把一个batch的200句话平行输入RNN.\n",
    "\n",
    "步骤如下:\n",
    "1. 首先把batch_size定义为200, "
   ]
  },
  {
   "cell_type": "markdown",
   "metadata": {
    "deletable": true,
    "editable": true
   },
   "source": [
    "### tf.unstack(value, axis=0)\n",
    "what is the meaning of axis?\n",
    "1. function: unstack the tensor from rank R to rank (R-1)\n",
    "    - in the example above, the rank R of x_one_hot is 3, rnn_inputs'rank is 2.\n",
    "    - the axis is used for value.shape[axis]\n",
    "2. why do it use unstack to deminish the data?\n",
    "    - from the document we can know that there should be 5 tensors in run_inputs. But the shape is only (200, 2), why?\n",
    "    - refer to the np.unstack()\n",
    "    - There should be 5 (200, 2) matrixs."
   ]
  },
  {
   "cell_type": "code",
   "execution_count": 9,
   "metadata": {
    "collapsed": false,
    "deletable": true,
    "editable": true
   },
   "outputs": [
    {
     "data": {
      "text/plain": [
       "2"
      ]
     },
     "execution_count": 9,
     "metadata": {},
     "output_type": "execute_result"
    }
   ],
   "source": [
    "num_classes"
   ]
  },
  {
   "cell_type": "code",
   "execution_count": 10,
   "metadata": {
    "collapsed": false,
    "deletable": true,
    "editable": true
   },
   "outputs": [],
   "source": [
    "\"\"\"\n",
    "Definition of rnn_cell\n",
    "\n",
    "This is very similar to the __call__ method on Tensorflow's BasicRNNCell. See:\n",
    "https://github.com/tensorflow/tensorflow/blob/master/tensorflow/contrib/rnn/python/ops/core_rnn_cell_impl.py#L95\n",
    "\"\"\"\n",
    "with tf.variable_scope('rnn_cell'):\n",
    "    W = tf.get_variable('W', [num_classes + state_size, state_size])\n",
    "    b = tf.get_variable('b', [state_size], initializer=tf.constant_initializer(0.0))\n",
    "\n",
    "def rnn_cell(rnn_input, state):\n",
    "    with tf.variable_scope('rnn_cell', reuse=True):\n",
    "        W = tf.get_variable('W', [num_classes + state_size, state_size])\n",
    "        b = tf.get_variable('b', [state_size], initializer=tf.constant_initializer(0.0))\n",
    "    return tf.tanh(tf.matmul(tf.concat([rnn_input, state], 1), W) + b)"
   ]
  },
  {
   "cell_type": "markdown",
   "metadata": {
    "deletable": true,
    "editable": true
   },
   "source": [
    "这个操作实现的就是下面这个运算\n",
    "$(x @ s) \\times w + b$"
   ]
  },
  {
   "cell_type": "markdown",
   "metadata": {
    "deletable": true,
    "editable": true
   },
   "source": [
    "### tf.concat & tf.stack\n",
    "1. 共同点: 这两个函数都是用来reshape tensor的.\n",
    "2. 不同点:\n",
    "    - concat 把拥有一个共同维度的数组按照该维度组合.\n",
    "    - stack 可以把一个大于2维的数组按照一个指定维度来展开.\n",
    "3. 两者之间的转换如何举例?"
   ]
  },
  {
   "cell_type": "code",
   "execution_count": 11,
   "metadata": {
    "collapsed": true,
    "deletable": true,
    "editable": true
   },
   "outputs": [],
   "source": [
    "\"\"\"\n",
    "Adding rnn_cells to graph\n",
    "\n",
    "This is a simplified version of the \"static_rnn\" function from Tensorflow's api. See:\n",
    "https://github.com/tensorflow/tensorflow/blob/master/tensorflow/contrib/rnn/python/ops/core_rnn.py#L41\n",
    "Note: In practice, using \"dynamic_rnn\" is a better choice that the \"static_rnn\":\n",
    "https://github.com/tensorflow/tensorflow/blob/master/tensorflow/python/ops/rnn.py#L390\n",
    "\"\"\"\n",
    "state = init_state\n",
    "rnn_outputs = [] # A list of states based on the input size.\n",
    "for rnn_input in rnn_inputs: # run_inputs ==> (200, 2) * 5 list\n",
    "    state = rnn_cell(rnn_input, state)\n",
    "    rnn_outputs.append(state) \n",
    "final_state = rnn_outputs[-1]"
   ]
  },
  {
   "cell_type": "markdown",
   "metadata": {
    "deletable": true,
    "editable": true
   },
   "source": [
    "这个state 是一个自己定义维度的一个向量, 对于每一个batch 都有 *一系列* 的states和它对应.\n",
    "$$state \\in R^{batch\\_size \\times num\\_steps}$$\n",
    "### TODO: state向量的维度是多少比较合适呢?\n"
   ]
  },
  {
   "cell_type": "code",
   "execution_count": 12,
   "metadata": {
    "collapsed": false,
    "deletable": true,
    "editable": true
   },
   "outputs": [],
   "source": [
    "\"\"\"\n",
    "Predictions, loss, training step\n",
    "\n",
    "Losses is similar to the \"sequence_loss\"\n",
    "function from Tensorflow's API, except that here we are using a list of 2D tensors, instead of a 3D tensor. See:\n",
    "https://github.com/tensorflow/tensorflow/blob/master/tensorflow/contrib/seq2seq/python/ops/loss.py#L30\n",
    "\"\"\"\n",
    "\n",
    "#logits and predictions\n",
    "with tf.variable_scope('softmax', reuse=None):\n",
    "    W = tf.get_variable('W', [state_size, num_classes])\n",
    "    b = tf.get_variable('b', [num_classes], \n",
    "                        initializer=tf.constant_initializer(0.0))"
   ]
  },
  {
   "cell_type": "code",
   "execution_count": 13,
   "metadata": {
    "collapsed": false,
    "deletable": true,
    "editable": true
   },
   "outputs": [],
   "source": [
    "logits = [tf.matmul(rnn_output, W) + b for rnn_output in rnn_outputs]\n",
    "# logits ==> (time_step, batch_size, num_classes)\n",
    "predictions = [tf.nn.softmax(logit) for logit in logits]\n",
    "# predictions ==> logits.shape\n",
    "# Turn our y placeholder into a list of labels\n",
    "y_as_list = tf.unstack(y, num=num_steps, axis=1)\n",
    "# y_as_list ==> 5 * (200, 2)\n",
    "#losses and train_step\n",
    "losses = [tf.nn.sparse_softmax_cross_entropy_with_logits(labels=label, logits=logit) for \\\n",
    "          logit, label in zip(logits, y_as_list)]\n",
    "total_loss = tf.reduce_mean(losses)\n",
    "train_step = tf.train.AdagradOptimizer(learning_rate).minimize(total_loss)"
   ]
  },
  {
   "cell_type": "markdown",
   "metadata": {
    "deletable": true,
    "editable": true
   },
   "source": [
    "### TODO: what is the difference between the two w and b? Are they the same, or they are different?\n",
    "\n",
    "\n",
    "The above is calculating the states with the next input, and store into a list named _prediction_ .\n",
    "$$state \\times w + b $$\n",
    "\n",
    "- the size of each variables.\n",
    "$$ w\\in R^{d \\times (n+s)}$$\n"
   ]
  },
  {
   "cell_type": "markdown",
   "metadata": {
    "deletable": true,
    "editable": true
   },
   "source": [
    "### 关于 tf.variable_scope(name) \n",
    "scope的作用类似于一个命名管理器.\n",
    "\n",
    "不同scope下面的变量可以使用相同的名字."
   ]
  },
  {
   "cell_type": "code",
   "execution_count": 14,
   "metadata": {
    "collapsed": true,
    "deletable": true,
    "editable": true
   },
   "outputs": [],
   "source": [
    "\"\"\"\n",
    "Train the network\n",
    "\"\"\"\n",
    "\n",
    "def train_network(num_epochs, num_steps, state_size=4, verbose=True):\n",
    "    with tf.Session() as sess:\n",
    "        sess.run(tf.global_variables_initializer())\n",
    "        training_losses = []\n",
    "        for idx, epoch in enumerate(gen_epochs(num_epochs, num_steps)):\n",
    "            training_loss = 0\n",
    "            training_state = np.zeros((batch_size, state_size))\n",
    "            if verbose:\n",
    "                print(\"\\nEPOCH\", idx)\n",
    "            for step, (X, Y) in enumerate(epoch):\n",
    "                tr_losses, training_loss_, training_state, _ = \\\n",
    "                    sess.run([losses,\n",
    "                              total_loss,\n",
    "                              final_state,\n",
    "                              train_step],\n",
    "                                  feed_dict={x:X, y:Y, init_state:training_state})\n",
    "                training_loss += training_loss_\n",
    "                if step % 100 == 0 and step > 0:\n",
    "                    if verbose:\n",
    "                        print(\"Average loss at step\", step,\n",
    "                              \"for last 250 steps:\", training_loss/100)\n",
    "                    training_losses.append(training_loss/100)\n",
    "                    training_loss = 0\n",
    "\n",
    "    return training_losses"
   ]
  },
  {
   "cell_type": "code",
   "execution_count": 16,
   "metadata": {
    "collapsed": false,
    "deletable": true,
    "editable": true,
    "scrolled": false
   },
   "outputs": [
    {
     "name": "stdout",
     "output_type": "stream",
     "text": [
      "\n",
      "EPOCH 0\n",
      "Average loss at step 100 for last 250 steps: 0.631549962163\n",
      "Average loss at step 200 for last 250 steps: 0.529166456461\n",
      "Average loss at step 300 for last 250 steps: 0.520547061563\n",
      "Average loss at step 400 for last 250 steps: 0.51986587435\n",
      "\n",
      "EPOCH 1\n",
      "Average loss at step 100 for last 250 steps: 0.522457573414\n",
      "Average loss at step 200 for last 250 steps: 0.51359729588\n",
      "Average loss at step 300 for last 250 steps: 0.513097512722\n",
      "Average loss at step 400 for last 250 steps: 0.513096005023\n",
      "\n",
      "EPOCH 2\n",
      "Average loss at step 100 for last 250 steps: 0.517191099823\n",
      "Average loss at step 200 for last 250 steps: 0.51189797014\n",
      "Average loss at step 300 for last 250 steps: 0.510683863163\n",
      "Average loss at step 400 for last 250 steps: 0.510342955589\n",
      "\n",
      "EPOCH 3\n",
      "Average loss at step 100 for last 250 steps: 0.517033561468\n",
      "Average loss at step 200 for last 250 steps: 0.511458417177\n",
      "Average loss at step 300 for last 250 steps: 0.509486623704\n",
      "Average loss at step 400 for last 250 steps: 0.509473537505\n",
      "\n",
      "EPOCH 4\n",
      "Average loss at step 100 for last 250 steps: 0.517186211944\n",
      "Average loss at step 200 for last 250 steps: 0.511897653937\n",
      "Average loss at step 300 for last 250 steps: 0.508820809126\n",
      "Average loss at step 400 for last 250 steps: 0.509945710301\n",
      "\n",
      "EPOCH 5\n",
      "Average loss at step 100 for last 250 steps: 0.516182478964\n",
      "Average loss at step 200 for last 250 steps: 0.508866322339\n",
      "Average loss at step 300 for last 250 steps: 0.510075215101\n",
      "Average loss at step 400 for last 250 steps: 0.511404285133\n",
      "\n",
      "EPOCH 6\n",
      "Average loss at step 100 for last 250 steps: 0.517243795991\n",
      "Average loss at step 200 for last 250 steps: 0.508991094828\n",
      "Average loss at step 300 for last 250 steps: 0.509814697504\n",
      "Average loss at step 400 for last 250 steps: 0.510982448459\n",
      "\n",
      "EPOCH 7\n",
      "Average loss at step 100 for last 250 steps: 0.515572998822\n",
      "Average loss at step 200 for last 250 steps: 0.509943111241\n",
      "Average loss at step 300 for last 250 steps: 0.509420209825\n",
      "Average loss at step 400 for last 250 steps: 0.509848531187\n",
      "\n",
      "EPOCH 8\n",
      "Average loss at step 100 for last 250 steps: 0.516507469416\n",
      "Average loss at step 200 for last 250 steps: 0.510209859312\n",
      "Average loss at step 300 for last 250 steps: 0.509729736447\n",
      "Average loss at step 400 for last 250 steps: 0.50697145313\n",
      "\n",
      "EPOCH 9\n",
      "Average loss at step 100 for last 250 steps: 0.515244738758\n",
      "Average loss at step 200 for last 250 steps: 0.508090243638\n",
      "Average loss at step 300 for last 250 steps: 0.508006373048\n",
      "Average loss at step 400 for last 250 steps: 0.510823069811\n"
     ]
    },
    {
     "data": {
      "text/plain": [
       "[<matplotlib.lines.Line2D at 0x7f3c4c65f080>]"
      ]
     },
     "execution_count": 16,
     "metadata": {},
     "output_type": "execute_result"
    },
    {
     "data": {
      "image/png": "[encoded data removed]",
      "text/plain": [
       "<matplotlib.figure.Figure at 0x7f3c67c09f98>"
      ]
     },
     "metadata": {},
     "output_type": "display_data"
    }
   ],
   "source": [
    "training_losses = train_network(num_steps=10, state_size=4, num_epochs=10)\n",
    "plt.plot(training_losses)"
   ]
  },
  {
   "cell_type": "markdown",
   "metadata": {
    "collapsed": true,
    "deletable": true,
    "editable": true
   },
   "source": [
    "The author said this is the first dependency.\n",
    "But why?"
   ]
  }
 ],
 "metadata": {
  "anaconda-cloud": {},
  "kernelspec": {
   "display_name": "Python [conda env:dl]",
   "language": "python",
   "name": "conda-env-dl-py"
  },
  "language_info": {
   "codemirror_mode": {
    "name": "ipython",
    "version": 3
   },
   "file_extension": ".py",
   "mimetype": "text/x-python",
   "name": "python",
   "nbconvert_exporter": "python",
   "pygments_lexer": "ipython3",
   "version": "3.5.2"
  }
 },
 "nbformat": 4,
 "nbformat_minor": 2
}
