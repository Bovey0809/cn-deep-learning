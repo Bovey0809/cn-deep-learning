{
 "cells": [
  {
   "cell_type": "markdown",
   "metadata": {},
   "source": [
    "# Generative Adversarial Network\n",
    "\n",
    "In this notebook, we'll be building a generative adversarial network (GAN) trained on the MNIST dataset. From this, we'll be able to generate new handwritten digits!\n",
    "\n",
    "GANs were [first reported on](https://arxiv.org/abs/1406.2661) in 2014 from Ian Goodfellow and others in Yoshua Bengio's lab. Since then, GANs have exploded in popularity. Here are a few examples to check out:\n",
    "\n",
    "* [Pix2Pix](https://affinelayer.com/pixsrv/) \n",
    "* [CycleGAN](https://github.com/junyanz/CycleGAN)\n",
    "* [A whole list](https://github.com/wiseodd/generative-models)\n",
    "\n",
    "The idea behind GANs is that you have two networks, a generator $G$ and a discriminator $D$, competing against each other. The generator makes fake data to pass to the discriminator. The discriminator also sees real data and predicts if the data it's received is real or fake. The generator is trained to fool the discriminator, it wants to output data that looks _as close as possible_ to real data. And the discriminator is trained to figure out which data is real and which is fake. What ends up happening is that the generator learns to make data that is indistiguishable from real data to the discriminator.\n",
    "\n",
    "![GAN diagram](assets/gan_diagram.png)\n",
    "\n",
    "The general structure of a GAN is shown in the diagram above, using MNIST images as data. The latent sample is a random vector the generator uses to contruct it's fake images. As the generator learns through training, it figures out how to map these random vectors to recognizable images that can fool the discriminator.\n",
    "\n",
    "The output of the discriminator is a sigmoid function, where 0 indicates a fake image and 1 indicates an real image. If you're interested only in generating new images, you can throw out the discriminator after training. Now, let's see how we build this thing in TensorFlow."
   ]
  },
  {
   "cell_type": "code",
   "execution_count": 1,
   "metadata": {
    "collapsed": true
   },
   "outputs": [],
   "source": [
    "%matplotlib inline\n",
    "\n",
    "import pickle as pkl\n",
    "import numpy as np\n",
    "import tensorflow as tf\n",
    "import matplotlib.pyplot as plt"
   ]
  },
  {
   "cell_type": "code",
   "execution_count": 2,
   "metadata": {},
   "outputs": [
    {
     "name": "stdout",
     "output_type": "stream",
     "text": [
      "Extracting MNIST_data/train-images-idx3-ubyte.gz\n",
      "Extracting MNIST_data/train-labels-idx1-ubyte.gz\n",
      "Extracting MNIST_data/t10k-images-idx3-ubyte.gz\n",
      "Extracting MNIST_data/t10k-labels-idx1-ubyte.gz\n"
     ]
    }
   ],
   "source": [
    "from tensorflow.examples.tutorials.mnist import input_data\n",
    "mnist = input_data.read_data_sets('MNIST_data')"
   ]
  },
  {
   "cell_type": "code",
   "execution_count": 3,
   "metadata": {
    "collapsed": true
   },
   "outputs": [],
   "source": [
    "import os\n",
    "# specific using GTX1080Ti\n",
    "os.environ['CUDA_VISIBLE_DEVICES'] = '3'"
   ]
  },
  {
   "cell_type": "markdown",
   "metadata": {},
   "source": [
    "## Model Inputs\n",
    "\n",
    "First we need to create the inputs for our graph. We need two inputs, one for the discriminator and one for the generator. Here we'll call the discriminator input `inputs_real` and the generator input `inputs_z`. We'll assign them the appropriate sizes for each of the networks.\n",
    "\n",
    ">**Exercise:** Finish the `model_inputs` function below. Create the placeholders for `inputs_real` and `inputs_z` using the input sizes `real_dim` and `z_dim` respectively."
   ]
  },
  {
   "cell_type": "code",
   "execution_count": 4,
   "metadata": {
    "collapsed": true
   },
   "outputs": [],
   "source": [
    "def model_inputs(real_dim, z_dim):\n",
    "    inputs_real = tf.placeholder(dtype=tf.float32, shape=(None, real_dim), name='inputs_real')\n",
    "    inputs_z = tf.placeholder(dtype=tf.float32, shape=(None, z_dim), name='inputs_fake')\n",
    "    \n",
    "    return inputs_real, inputs_z"
   ]
  },
  {
   "cell_type": "markdown",
   "metadata": {},
   "source": [
    "@TODO:\n",
    "G和D的输入不是应该是一样维度的数据吗? 为什么不一样的大小?"
   ]
  },
  {
   "cell_type": "markdown",
   "metadata": {},
   "source": [
    "## Generator network\n",
    "\n",
    "![GAN Network](assets/gan_network.png)\n",
    "\n",
    "Here we'll build the generator network. To make this network a universal function approximator, we'll need at least one hidden layer. We should use a leaky ReLU to allow gradients to flow backwards through the layer unimpeded. A leaky ReLU is like a normal ReLU, except that there is a small non-zero output for negative input values.\n",
    "\n",
    "1. 为什么我们需要一个hidden layer在generator里面?\n",
    "    - 因为只有通过一个隐藏层, 才可以使用后向传播计算梯度.\n",
    "2. leaky relu的特点?\n",
    "    - leaky relu的特点是可以产生一个非零的输出.\n",
    "\n",
    "#### Variable Scope\n",
    "Here we need to use `tf.variable_scope` for two reasons. Firstly, we're going to make sure all the variable names start with `generator`. Similarly, we'll prepend `discriminator` to the discriminator variables. This will help out later when we're training the separate networks.\n",
    "\n",
    "1. 为什么需要使用variable scope?\n",
    "    - 为了让generator的所有变量的名字以 generator 开头.\n",
    "    - 之后训练网络的时候需要使用. 这些网络的输入需要变化, 所以需要是用resue.\n",
    "        - discriminator的权重在训练的时候不仅需要给generator的fake inputs使用, 还需要使用real inputs, 所以需要name scope.\n",
    "\n",
    "We could just use `tf.name_scope` to set the names, but we also want to reuse these networks with different inputs. For the generator, we're going to train it, but also _sample from it_ as we're training and after training. The discriminator will need to share variables between the fake and real input images. So, we can use the `reuse` keyword for `tf.variable_scope` to tell TensorFlow to reuse the variables instead of creating new ones if we build the graph again.\n",
    "\n",
    "\n",
    "To use `tf.variable_scope`, you use a `with` statement:\n",
    "```python\n",
    "with tf.variable_scope('scope_name', reuse=False):\n",
    "    # code here\n",
    "```\n",
    "\n",
    "Here's more from [the TensorFlow documentation](https://www.tensorflow.org/programmers_guide/variable_scope#the_problem) to get another look at using `tf.variable_scope`.\n",
    "\n",
    "#### Leaky ReLU\n",
    "TensorFlow doesn't provide an operation for leaky ReLUs, so we'll need to make one . For this you can just take the outputs from a linear fully connected layer and pass them to `tf.maximum`. Typically, a parameter `alpha` sets the magnitude of the output for negative values. So, the output for negative input (`x`) values is `alpha*x`, and the output for positive `x` is `x`:\n",
    "$$\n",
    "f(x) = max(\\alpha * x, x)\n",
    "$$\n",
    "\n",
    "#### Tanh Output\n",
    "The generator has been found to perform the best with $tanh$ for the generator output. This means that we'll have to rescale the MNIST images to be between -1 and 1, instead of 0 and 1.\n",
    "\n",
    "1. 为什么使用Tanh作为输出的激活函数?\n",
    "    - 实验证明, tanh的效果最好.\n",
    "    - 我们需要把图片的值域定位在 (-1, 1)\n",
    " \n",
    ">**Exercise:** Implement the generator network in the function below. You'll need to return the tanh output. Make sure to wrap your code in a variable scope, with 'generator' as the scope name, and pass the `reuse` keyword argument from the function to `tf.variable_scope`."
   ]
  },
  {
   "cell_type": "code",
   "execution_count": 5,
   "metadata": {
    "collapsed": true
   },
   "outputs": [],
   "source": [
    "def generator(z, out_dim, n_units=128, reuse=False,  alpha=0.01):\n",
    "    ''' Build the generator network.\n",
    "    \n",
    "        Arguments\n",
    "        ---------\n",
    "        z : Input tensor for the generator\n",
    "        out_dim : Shape of the generator output\n",
    "        n_units : Number of units in hidden layer\n",
    "        reuse : Reuse the variables with tf.variable_scope\n",
    "        alpha : leak parameter for leaky ReLU\n",
    "        \n",
    "        Returns\n",
    "        -------\n",
    "        out, logits: \n",
    "    '''\n",
    "    with tf.variable_scope('generator', reuse=reuse): # finish this\n",
    "        # Hidden layer\n",
    "        h1 = tf.layers.dense(z, n_units)\n",
    "        # Leaky ReLU\n",
    "        h1 = tf.maximum(alpha*h1, h1)\n",
    "        \n",
    "        # Logits and tanh output\n",
    "        logits = tf.layers.dense(h1, out_dim)\n",
    "        out = tf.tanh(logits)\n",
    "        \n",
    "        return out"
   ]
  },
  {
   "cell_type": "markdown",
   "metadata": {},
   "source": [
    "## Discriminator\n",
    "\n",
    "The discriminator network is almost exactly the same as the generator network, except that we're using a sigmoid output layer.\n",
    "\n",
    ">**Exercise:** Implement the discriminator network in the function below. Same as above, you'll need to return both the logits and the sigmoid output. Make sure to wrap your code in a variable scope, with 'discriminator' as the scope name, and pass the `reuse` keyword argument from the function arguments to `tf.variable_scope`."
   ]
  },
  {
   "cell_type": "code",
   "execution_count": 6,
   "metadata": {
    "collapsed": true
   },
   "outputs": [],
   "source": [
    "def discriminator(x, n_units=128, reuse=False, alpha=0.01):\n",
    "    ''' Build the discriminator network.\n",
    "    \n",
    "        Arguments\n",
    "        ---------\n",
    "        x : Input tensor for the discriminator\n",
    "        n_units: Number of units in hidden layer\n",
    "        reuse : Reuse the variables with tf.variable_scope\n",
    "        alpha : leak parameter for leaky ReLU\n",
    "        \n",
    "        Returns\n",
    "        -------\n",
    "        out, logits: \n",
    "    '''\n",
    "    with tf.variable_scope('discriminator', reuse=reuse): # finish this\n",
    "        # Hidden layer\n",
    "        h1 = tf.layers.dense(x, n_units)\n",
    "        # Leaky ReLU\n",
    "        h1 = tf.maximum(alpha * h1, h1)\n",
    "        \n",
    "        logits = tf.layers.dense(h1, 1)\n",
    "        out = tf.nn.sigmoid(logits)\n",
    "        \n",
    "        return out, logits"
   ]
  },
  {
   "cell_type": "markdown",
   "metadata": {},
   "source": [
    "## Hyperparameters"
   ]
  },
  {
   "cell_type": "code",
   "execution_count": 7,
   "metadata": {
    "collapsed": true
   },
   "outputs": [],
   "source": [
    "# Size of input image to discriminator\n",
    "input_size = 784 # 28x28 MNIST images flattened\n",
    "# Size of latent vector to generator\n",
    "z_size = 100\n",
    "# Sizes of hidden layers in generator and discriminator\n",
    "g_hidden_size = 128\n",
    "d_hidden_size = 128\n",
    "# Leak factor for leaky ReLU\n",
    "alpha = 0.01\n",
    "# Label smoothing \n",
    "smooth = 0.1"
   ]
  },
  {
   "cell_type": "markdown",
   "metadata": {},
   "source": [
    "## Build network\n",
    "\n",
    "Now we're building the network from the functions defined above.\n",
    "\n",
    "First is to get our inputs, `input_real, input_z` from `model_inputs` using the sizes of the input and z.\n",
    "\n",
    "Then, we'll create the generator, `generator(input_z, input_size)`. This builds the generator with the appropriate input and output sizes.\n",
    "\n",
    "Then the discriminators. We'll build two of them, one for real data and one for fake data. Since we want the weights to be the same for both real and fake data, we need to reuse the variables. For the fake data, we're getting it from the generator as `g_model`. So the real data discriminator is `discriminator(input_real)` while the fake discriminator is `discriminator(g_model, reuse=True)`.\n",
    "\n",
    "\n",
    ">**Exercise:** Build the network from the functions you defined earlier."
   ]
  },
  {
   "cell_type": "code",
   "execution_count": 23,
   "metadata": {},
   "outputs": [],
   "source": [
    "tf.reset_default_graph()\n",
    "# Create our input placeholders\n",
    "input_real, input_z = model_inputs(input_size, z_size)\n",
    "\n",
    "# Generator network here\n",
    "g_model = generator(input_z, input_size)\n",
    "# g_model is the generator output\n",
    "\n",
    "# Disriminator network here\n",
    "d_model_real, d_logits_real = discriminator(input_real)\n",
    "d_model_fake, d_logits_fake = discriminator(g_model, reuse=True)"
   ]
  },
  {
   "cell_type": "code",
   "execution_count": 24,
   "metadata": {},
   "outputs": [
    {
     "name": "stdout",
     "output_type": "stream",
     "text": [
      "generator/dense/kernel:0\n",
      "generator/dense/bias:0\n",
      "generator/dense_1/kernel:0\n",
      "generator/dense_1/bias:0\n",
      "discriminator/dense/kernel:0\n",
      "discriminator/dense/bias:0\n",
      "discriminator/dense_1/kernel:0\n",
      "discriminator/dense_1/bias:0\n"
     ]
    }
   ],
   "source": [
    "for i in tf.trainable_variables():\n",
    "    print(i.name)"
   ]
  },
  {
   "cell_type": "markdown",
   "metadata": {},
   "source": [
    "## Discriminator and Generator Losses\n",
    "\n",
    "Now we need to calculate the losses, which is a little tricky. For the discriminator, the total loss is the sum of the losses for real and fake images, `d_loss = d_loss_real + d_loss_fake`. The losses will by sigmoid cross-entropies, which we can get with `tf.nn.sigmoid_cross_entropy_with_logits`. We'll also wrap that in `tf.reduce_mean` to get the mean for all the images in the batch. So the losses will look something like \n",
    "\n",
    "- discriminator的损失函数使用的是cross entropy, 把真实数据的loss加上fake数据的loss即可.\n",
    "\n",
    "```python\n",
    "tf.reduce_mean(tf.nn.sigmoid_cross_entropy_with_logits(logits=logits, labels=labels))\n",
    "```\n",
    "\n",
    "For the real image logits, we'll use `d_logits_real` which we got from the discriminator in the cell above. For the labels, we want them to be all ones, since these are all real images. To help the discriminator generalize better, the labels are reduced a bit from 1.0 to 0.9, for example,  using the parameter `smooth`. This is known as label smoothing, typically used with classifiers to improve performance. In TensorFlow, it looks something like `labels = tf.ones_like(tensor) * (1 - smooth)`\n",
    "\n",
    "- 对于真实数据的loss, 我们使用交叉熵来计算, 但是需要注意的是, 使用smooth 函数把labels的值稍微下调一点点.\n",
    "- 这样做的目的是提高效率.\n",
    "\n",
    "The discriminator loss for the fake data is similar. The logits are `d_logits_fake`, which we got from passing the generator output to the discriminator. These fake logits are used with labels of all zeros. Remember that we want the discriminator to output 1 for real images and 0 for fake images, so we need to set up the losses to reflect that.\n",
    "\n",
    "- 计算fake图片的loss的时候, 把所有的标签都变成0, 然后使用cross entropy.\n",
    "\n",
    "Finally, the generator losses are using `d_logits_fake`, the fake image logits. But, now the labels are all ones. The generator is trying to fool the discriminator, so it wants to discriminator to output ones for fake images.\n",
    "\n",
    ">**Exercise:** Calculate the losses for the discriminator and the generator. There are two discriminator losses, one for real images and one for fake images. For the real image loss, use the real logits and (smoothed) labels of ones. For the fake image loss, use the fake logits with labels of all zeros. The total discriminator loss is the sum of those two losses. Finally, the generator loss again uses the fake logits from the discriminator, but this time the labels are all ones because the generator wants to fool the discriminator."
   ]
  },
  {
   "cell_type": "code",
   "execution_count": 34,
   "metadata": {
    "collapsed": true
   },
   "outputs": [],
   "source": [
    "# Calculate losses\n",
    "d_loss_real = tf.reduce_mean(tf.nn.sigmoid_cross_entropy_with_logits(logits=d_logits_real, \n",
    "                                                                     labels=tf.ones_like(d_logits_real)*(1 - smooth)))\n",
    "\n",
    "d_loss_fake = tf.reduce_mean(tf.nn.sigmoid_cross_entropy_with_logits(logits=d_logits_fake,\n",
    "                                                                    labels=tf.zeros_like(d_logits_real)))\n",
    "\n",
    "d_loss = d_loss_real + d_loss_fake\n",
    "\n",
    "g_loss = tf.reduce_mean(tf.nn.sigmoid_cross_entropy_with_logits(logits=d_logits_fake, \n",
    "                                                                labels=tf.ones_like(d_logits_fake)))"
   ]
  },
  {
   "cell_type": "code",
   "execution_count": 35,
   "metadata": {},
   "outputs": [
    {
     "data": {
      "text/plain": [
       "<tf.Tensor 'add_2:0' shape=() dtype=float32>"
      ]
     },
     "execution_count": 35,
     "metadata": {},
     "output_type": "execute_result"
    }
   ],
   "source": [
    "d_loss"
   ]
  },
  {
   "cell_type": "code",
   "execution_count": 36,
   "metadata": {},
   "outputs": [
    {
     "data": {
      "text/plain": [
       "<tf.Tensor 'discriminator_1/dense_2/BiasAdd:0' shape=(?, 1) dtype=float32>"
      ]
     },
     "execution_count": 36,
     "metadata": {},
     "output_type": "execute_result"
    }
   ],
   "source": [
    "d_logits_fake"
   ]
  },
  {
   "cell_type": "markdown",
   "metadata": {},
   "source": [
    "## Optimizers\n",
    "\n",
    "We want to update the generator and discriminator variables separately. So we need to get the variables for each part and build optimizers for the two parts. To get all the trainable variables, we use `tf.trainable_variables()`. This creates a list of all the variables we've defined in our graph.\n",
    "\n",
    "For the generator optimizer, we only want to generator variables. Our past selves were nice and used a variable scope to start all of our generator variable names with `generator`. So, we just need to iterate through the list from `tf.trainable_variables()` and keep variables that start with `generator`. Each variable object has an attribute `name` which holds the name of the variable as a string (`var.name == 'weights_0'` for instance). \n",
    "\n",
    "We can do something similar with the discriminator. All the variables in the discriminator start with `discriminator`.\n",
    "\n",
    "Then, in the optimizer we pass the variable lists to the `var_list` keyword argument of the `minimize` method. This tells the optimizer to only update the listed variables. Something like `tf.train.AdamOptimizer().minimize(loss, var_list=var_list)` will only train the variables in `var_list`.\n",
    "\n",
    ">**Exercise: ** Below, implement the optimizers for the generator and discriminator. First you'll need to get a list of trainable variables, then split that list into two lists, one for the generator variables and another for the discriminator variables. Finally, using `AdamOptimizer`, create an optimizer for each network that update the network variables separately."
   ]
  },
  {
   "cell_type": "code",
   "execution_count": 37,
   "metadata": {},
   "outputs": [
    {
     "data": {
      "text/plain": [
       "'discriminator/dense/kernel:0'"
      ]
     },
     "execution_count": 37,
     "metadata": {},
     "output_type": "execute_result"
    }
   ],
   "source": [
    "tf.trainable_variables()[4].name"
   ]
  },
  {
   "cell_type": "code",
   "execution_count": 38,
   "metadata": {
    "collapsed": true,
    "scrolled": true
   },
   "outputs": [],
   "source": [
    "# Optimizers\n",
    "learning_rate = 0.002\n",
    "\n",
    "# Get the trainable_variables, split into G and D parts\n",
    "t_vars = tf.trainable_variables()\n",
    "g_vars = [variables for variables in t_vars if variables.name.startswith('generator')]\n",
    "d_vars = [generator_variables for generator_variables in t_vars if generator_variables.name.startswith('discriminator')]\n",
    "\n",
    "d_train_opt = tf.train.AdamOptimizer().minimize(d_loss, var_list=d_vars)\n",
    "g_train_opt = tf.train.AdamOptimizer().minimize(g_loss, var_list=g_vars)"
   ]
  },
  {
   "cell_type": "markdown",
   "metadata": {},
   "source": [
    "## Training"
   ]
  },
  {
   "cell_type": "code",
   "execution_count": 39,
   "metadata": {},
   "outputs": [
    {
     "name": "stdout",
     "output_type": "stream",
     "text": [
      "Automatic pdb calling has been turned ON\n"
     ]
    }
   ],
   "source": [
    "%pdb"
   ]
  },
  {
   "cell_type": "code",
   "execution_count": 40,
   "metadata": {
    "scrolled": true
   },
   "outputs": [
    {
     "name": "stdout",
     "output_type": "stream",
     "text": [
      "Epoch 1/100... Discriminator Loss: 0.3536... Generator Loss: 3.9668\n",
      "Epoch 2/100... Discriminator Loss: 0.3448... Generator Loss: 4.2987\n",
      "Epoch 3/100... Discriminator Loss: 0.3718... Generator Loss: 3.6315\n",
      "Epoch 4/100... Discriminator Loss: 0.4332... Generator Loss: 3.7480\n",
      "Epoch 5/100... Discriminator Loss: 0.6826... Generator Loss: 2.3552\n",
      "Epoch 6/100... Discriminator Loss: 0.8442... Generator Loss: 4.2517\n",
      "Epoch 7/100... Discriminator Loss: 0.9749... Generator Loss: 3.2336\n",
      "Epoch 8/100... Discriminator Loss: 0.7797... Generator Loss: 3.2814\n",
      "Epoch 9/100... Discriminator Loss: 0.8722... Generator Loss: 2.7518\n",
      "Epoch 10/100... Discriminator Loss: 1.1571... Generator Loss: 1.9671\n",
      "Epoch 11/100... Discriminator Loss: 0.9557... Generator Loss: 2.5661\n",
      "Epoch 12/100... Discriminator Loss: 1.5510... Generator Loss: 1.2737\n",
      "Epoch 13/100... Discriminator Loss: 1.0309... Generator Loss: 3.2019\n",
      "Epoch 14/100... Discriminator Loss: 1.2304... Generator Loss: 1.8484\n",
      "Epoch 15/100... Discriminator Loss: 1.2023... Generator Loss: 2.7561\n",
      "Epoch 16/100... Discriminator Loss: 1.4189... Generator Loss: 2.8171\n",
      "Epoch 17/100... Discriminator Loss: 1.3235... Generator Loss: 3.4226\n",
      "Epoch 18/100... Discriminator Loss: 1.2018... Generator Loss: 1.8326\n",
      "Epoch 19/100... Discriminator Loss: 0.6966... Generator Loss: 3.6628\n",
      "Epoch 20/100... Discriminator Loss: 1.0437... Generator Loss: 1.9690\n",
      "Epoch 21/100... Discriminator Loss: 0.9531... Generator Loss: 3.1321\n",
      "Epoch 22/100... Discriminator Loss: 0.9888... Generator Loss: 2.0717\n",
      "Epoch 23/100... Discriminator Loss: 0.9749... Generator Loss: 1.9538\n",
      "Epoch 24/100... Discriminator Loss: 0.9525... Generator Loss: 2.1312\n",
      "Epoch 25/100... Discriminator Loss: 1.6587... Generator Loss: 1.5626\n",
      "Epoch 26/100... Discriminator Loss: 1.2997... Generator Loss: 1.6955\n",
      "Epoch 27/100... Discriminator Loss: 1.0357... Generator Loss: 1.9574\n",
      "Epoch 28/100... Discriminator Loss: 0.8324... Generator Loss: 1.9314\n",
      "Epoch 29/100... Discriminator Loss: 0.8830... Generator Loss: 2.0597\n",
      "Epoch 30/100... Discriminator Loss: 0.9445... Generator Loss: 1.7891\n",
      "Epoch 31/100... Discriminator Loss: 0.9957... Generator Loss: 1.4276\n",
      "Epoch 32/100... Discriminator Loss: 0.8536... Generator Loss: 1.9208\n",
      "Epoch 33/100... Discriminator Loss: 1.0403... Generator Loss: 1.8891\n",
      "Epoch 34/100... Discriminator Loss: 0.8452... Generator Loss: 1.9854\n",
      "Epoch 35/100... Discriminator Loss: 1.3021... Generator Loss: 1.6049\n",
      "Epoch 36/100... Discriminator Loss: 1.0790... Generator Loss: 1.6977\n",
      "Epoch 37/100... Discriminator Loss: 1.0600... Generator Loss: 1.2173\n",
      "Epoch 38/100... Discriminator Loss: 1.1764... Generator Loss: 1.6726\n",
      "Epoch 39/100... Discriminator Loss: 1.1243... Generator Loss: 1.4646\n",
      "Epoch 40/100... Discriminator Loss: 0.8528... Generator Loss: 2.3146\n",
      "Epoch 41/100... Discriminator Loss: 0.7489... Generator Loss: 2.6299\n",
      "Epoch 42/100... Discriminator Loss: 1.0479... Generator Loss: 1.7599\n",
      "Epoch 43/100... Discriminator Loss: 1.2230... Generator Loss: 1.4466\n",
      "Epoch 44/100... Discriminator Loss: 1.1123... Generator Loss: 1.6259\n",
      "Epoch 45/100... Discriminator Loss: 1.0776... Generator Loss: 1.6006\n",
      "Epoch 46/100... Discriminator Loss: 1.1230... Generator Loss: 1.8668\n",
      "Epoch 47/100... Discriminator Loss: 1.0360... Generator Loss: 1.5148\n",
      "Epoch 48/100... Discriminator Loss: 1.0026... Generator Loss: 2.0258\n",
      "Epoch 49/100... Discriminator Loss: 1.2234... Generator Loss: 1.3656\n",
      "Epoch 50/100... Discriminator Loss: 1.1844... Generator Loss: 1.7194\n",
      "Epoch 51/100... Discriminator Loss: 0.9384... Generator Loss: 2.1452\n",
      "Epoch 52/100... Discriminator Loss: 1.2447... Generator Loss: 1.8098\n",
      "Epoch 53/100... Discriminator Loss: 0.8599... Generator Loss: 2.0937\n",
      "Epoch 54/100... Discriminator Loss: 1.1056... Generator Loss: 1.5419\n",
      "Epoch 55/100... Discriminator Loss: 1.0137... Generator Loss: 1.5640\n",
      "Epoch 56/100... Discriminator Loss: 0.9274... Generator Loss: 2.1324\n",
      "Epoch 57/100... Discriminator Loss: 1.2438... Generator Loss: 1.1091\n",
      "Epoch 58/100... Discriminator Loss: 1.1377... Generator Loss: 1.4656\n",
      "Epoch 59/100... Discriminator Loss: 1.0681... Generator Loss: 2.0483\n",
      "Epoch 60/100... Discriminator Loss: 1.0346... Generator Loss: 1.5649\n",
      "Epoch 61/100... Discriminator Loss: 1.0054... Generator Loss: 1.7171\n",
      "Epoch 62/100... Discriminator Loss: 1.1395... Generator Loss: 1.5553\n",
      "Epoch 63/100... Discriminator Loss: 0.7627... Generator Loss: 2.0000\n",
      "Epoch 64/100... Discriminator Loss: 1.2617... Generator Loss: 1.2280\n",
      "Epoch 65/100... Discriminator Loss: 0.9853... Generator Loss: 1.5882\n",
      "Epoch 66/100... Discriminator Loss: 0.8368... Generator Loss: 1.7614\n",
      "Epoch 67/100... Discriminator Loss: 1.2652... Generator Loss: 1.4978\n",
      "Epoch 68/100... Discriminator Loss: 1.0751... Generator Loss: 1.3440\n",
      "Epoch 69/100... Discriminator Loss: 0.9884... Generator Loss: 1.5952\n",
      "Epoch 70/100... Discriminator Loss: 0.8677... Generator Loss: 1.8258\n",
      "Epoch 71/100... Discriminator Loss: 0.9127... Generator Loss: 1.6709\n",
      "Epoch 72/100... Discriminator Loss: 0.8533... Generator Loss: 1.9777\n",
      "Epoch 73/100... Discriminator Loss: 0.9545... Generator Loss: 1.7623\n",
      "Epoch 74/100... Discriminator Loss: 1.0975... Generator Loss: 1.5344\n",
      "Epoch 75/100... Discriminator Loss: 1.1010... Generator Loss: 1.5753\n",
      "Epoch 76/100... Discriminator Loss: 1.1693... Generator Loss: 1.7580\n",
      "Epoch 77/100... Discriminator Loss: 1.0368... Generator Loss: 1.5261\n",
      "Epoch 78/100... Discriminator Loss: 1.0780... Generator Loss: 1.3093\n",
      "Epoch 79/100... Discriminator Loss: 0.9933... Generator Loss: 1.8882\n",
      "Epoch 80/100... Discriminator Loss: 0.8811... Generator Loss: 1.9824\n",
      "Epoch 81/100... Discriminator Loss: 1.0404... Generator Loss: 1.8665\n",
      "Epoch 82/100... Discriminator Loss: 0.9292... Generator Loss: 1.6687\n",
      "Epoch 83/100... Discriminator Loss: 0.9299... Generator Loss: 1.8284\n",
      "Epoch 84/100... Discriminator Loss: 1.0328... Generator Loss: 1.7983\n",
      "Epoch 85/100... Discriminator Loss: 1.1481... Generator Loss: 1.6068\n",
      "Epoch 86/100... Discriminator Loss: 1.0463... Generator Loss: 1.6254\n",
      "Epoch 87/100... Discriminator Loss: 1.1068... Generator Loss: 1.5911\n",
      "Epoch 88/100... Discriminator Loss: 0.9437... Generator Loss: 1.6100\n",
      "Epoch 89/100... Discriminator Loss: 0.9910... Generator Loss: 2.2291\n",
      "Epoch 90/100... Discriminator Loss: 0.9671... Generator Loss: 1.7121\n",
      "Epoch 91/100... Discriminator Loss: 0.9323... Generator Loss: 1.8607\n",
      "Epoch 92/100... Discriminator Loss: 1.1907... Generator Loss: 1.5441\n",
      "Epoch 93/100... Discriminator Loss: 1.1152... Generator Loss: 1.4819\n",
      "Epoch 94/100... Discriminator Loss: 1.0762... Generator Loss: 1.6437\n",
      "Epoch 95/100... Discriminator Loss: 1.0054... Generator Loss: 1.3037\n",
      "Epoch 96/100... Discriminator Loss: 0.8193... Generator Loss: 1.8653\n",
      "Epoch 97/100... Discriminator Loss: 1.0435... Generator Loss: 1.7323\n",
      "Epoch 98/100... Discriminator Loss: 1.1147... Generator Loss: 1.4364\n",
      "Epoch 99/100... Discriminator Loss: 1.0203... Generator Loss: 1.7985\n",
      "Epoch 100/100... Discriminator Loss: 1.0127... Generator Loss: 1.6940\n"
     ]
    }
   ],
   "source": [
    "batch_size = 100\n",
    "epochs = 100\n",
    "samples = []\n",
    "losses = []\n",
    "# Only save generator variables\n",
    "saver = tf.train.Saver(var_list=g_vars)\n",
    "with tf.Session() as sess:\n",
    "    sess.run(tf.global_variables_initializer())\n",
    "    for e in range(epochs):\n",
    "        for ii in range(mnist.train.num_examples//batch_size):\n",
    "            batch = mnist.train.next_batch(batch_size)\n",
    "            \n",
    "            # Get images, reshape and rescale to pass to D\n",
    "            batch_images = batch[0].reshape((batch_size, 784))\n",
    "            batch_images = batch_images*2 - 1\n",
    "            \n",
    "            # Sample random noise for G\n",
    "            batch_z = np.random.uniform(-1, 1, size=(batch_size, z_size))\n",
    "            \n",
    "            # Run optimizers\n",
    "            _ = sess.run(d_train_opt, feed_dict={input_real: batch_images, input_z: batch_z})\n",
    "            _ = sess.run(g_train_opt, feed_dict={input_z: batch_z})\n",
    "        \n",
    "        # At the end of each epoch, get the losses and print them out\n",
    "        train_loss_d = sess.run(d_loss, {input_z: batch_z, input_real: batch_images})\n",
    "        train_loss_g = g_loss.eval({input_z: batch_z})\n",
    "        # set_trace()\n",
    "        print(\"Epoch {}/{}...\".format(e+1, epochs),\n",
    "              \"Discriminator Loss: {:.4f}...\".format(train_loss_d),\n",
    "              \"Generator Loss: {:.4f}\".format(train_loss_g))    \n",
    "        # Save losses to view after training\n",
    "        losses.append((train_loss_d, train_loss_g))\n",
    "        \n",
    "        # Sample from generator as we're training for viewing afterwards\n",
    "        sample_z = np.random.uniform(-1, 1, size=(16, z_size))\n",
    "        gen_samples = sess.run(\n",
    "                       generator(input_z, input_size, reuse=True),\n",
    "                       feed_dict={input_z: sample_z})\n",
    "        samples.append(gen_samples)\n",
    "        saver.save(sess, './checkpoints/generator.ckpt')\n",
    "\n",
    "# Save training generator samples\n",
    "with open('train_samples.pkl', 'wb') as f:\n",
    "    pkl.dump(samples, f)"
   ]
  },
  {
   "cell_type": "markdown",
   "metadata": {},
   "source": [
    "# debug\n",
    "1. ValueError: Unknown format code 'f' for object of type 'str'\n",
    "    - The train_loss_d is not string.\n",
    "    - check the train_loss_d by comparing the code in solution.\n",
    "    - reason: the train_loss_d should be a float number rather than array here."
   ]
  },
  {
   "cell_type": "markdown",
   "metadata": {},
   "source": [
    "## Training loss\n",
    "\n",
    "Here we'll check out the training losses for the generator and discriminator."
   ]
  },
  {
   "cell_type": "code",
   "execution_count": null,
   "metadata": {
    "collapsed": true
   },
   "outputs": [],
   "source": [
    "%matplotlib inline\n",
    "\n",
    "import matplotlib.pyplot as plt"
   ]
  },
  {
   "cell_type": "code",
   "execution_count": null,
   "metadata": {
    "collapsed": true
   },
   "outputs": [],
   "source": [
    "fig, ax = plt.subplots()\n",
    "losses = np.array(losses)\n",
    "plt.plot(losses.T[0], label='Discriminator')\n",
    "plt.plot(losses.T[1], label='Generator')\n",
    "plt.title(\"Training Losses\")\n",
    "plt.legend()"
   ]
  },
  {
   "cell_type": "markdown",
   "metadata": {},
   "source": [
    "## Generator samples from training\n",
    "\n",
    "Here we can view samples of images from the generator. First we'll look at images taken while training."
   ]
  },
  {
   "cell_type": "code",
   "execution_count": null,
   "metadata": {
    "collapsed": true
   },
   "outputs": [],
   "source": [
    "def view_samples(epoch, samples):\n",
    "    fig, axes = plt.subplots(figsize=(7,7), nrows=4, ncols=4, sharey=True, sharex=True)\n",
    "    for ax, img in zip(axes.flatten(), samples[epoch]):\n",
    "        ax.xaxis.set_visible(False)\n",
    "        ax.yaxis.set_visible(False)\n",
    "        im = ax.imshow(img.reshape((28,28)), cmap='Greys_r')\n",
    "    \n",
    "    return fig, axes"
   ]
  },
  {
   "cell_type": "code",
   "execution_count": null,
   "metadata": {
    "collapsed": true
   },
   "outputs": [],
   "source": [
    "# Load samples from generator taken while training\n",
    "with open('train_samples.pkl', 'rb') as f:\n",
    "    samples = pkl.load(f)"
   ]
  },
  {
   "cell_type": "markdown",
   "metadata": {},
   "source": [
    "These are samples from the final training epoch. You can see the generator is able to reproduce numbers like 5, 7, 3, 0, 9. Since this is just a sample, it isn't representative of the full range of images this generator can make."
   ]
  },
  {
   "cell_type": "code",
   "execution_count": null,
   "metadata": {
    "collapsed": true
   },
   "outputs": [],
   "source": [
    "_ = view_samples(-1, samples)"
   ]
  },
  {
   "cell_type": "markdown",
   "metadata": {},
   "source": [
    "Below I'm showing the generated images as the network was training, every 10 epochs. With bonus optical illusion!"
   ]
  },
  {
   "cell_type": "code",
   "execution_count": null,
   "metadata": {
    "collapsed": true
   },
   "outputs": [],
   "source": [
    "rows, cols = 10, 6\n",
    "fig, axes = plt.subplots(figsize=(7,12), nrows=rows, ncols=cols, sharex=True, sharey=True)\n",
    "\n",
    "for sample, ax_row in zip(samples[::int(len(samples)/rows)], axes):\n",
    "    for img, ax in zip(sample[::int(len(sample)/cols)], ax_row):\n",
    "        ax.imshow(img.reshape((28,28)), cmap='Greys_r')\n",
    "        ax.xaxis.set_visible(False)\n",
    "        ax.yaxis.set_visible(False)"
   ]
  },
  {
   "cell_type": "markdown",
   "metadata": {},
   "source": [
    "It starts out as all noise. Then it learns to make only the center white and the rest black. You can start to see some number like structures appear out of the noise. Looks like 1, 9, and 8 show up first. Then, it learns 5 and 3."
   ]
  },
  {
   "cell_type": "markdown",
   "metadata": {},
   "source": [
    "## Sampling from the generator\n",
    "\n",
    "We can also get completely new images from the generator by using the checkpoint we saved after training. We just need to pass in a new latent vector $z$ and we'll get new samples!"
   ]
  },
  {
   "cell_type": "code",
   "execution_count": null,
   "metadata": {
    "collapsed": true
   },
   "outputs": [],
   "source": [
    "saver = tf.train.Saver(var_list=g_vars)\n",
    "with tf.Session() as sess:\n",
    "    saver.restore(sess, tf.train.latest_checkpoint('checkpoints'))\n",
    "    sample_z = np.random.uniform(-1, 1, size=(16, z_size))\n",
    "    gen_samples = sess.run(\n",
    "                   generator(input_z, input_size, reuse=True),\n",
    "                   feed_dict={input_z: sample_z})\n",
    "view_samples(0, [gen_samples])"
   ]
  }
 ],
 "metadata": {
  "kernelspec": {
   "display_name": "Python [conda env:dl]",
   "language": "python",
   "name": "conda-env-dl-py"
  },
  "language_info": {
   "codemirror_mode": {
    "name": "ipython",
    "version": 3
   },
   "file_extension": ".py",
   "mimetype": "text/x-python",
   "name": "python",
   "nbconvert_exporter": "python",
   "pygments_lexer": "ipython3",
   "version": "3.5.2"
  }
 },
 "nbformat": 4,
 "nbformat_minor": 2
}
