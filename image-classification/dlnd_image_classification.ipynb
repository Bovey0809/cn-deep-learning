{
 "cells": [
  {
   "cell_type": "markdown",
   "metadata": {
    "collapsed": true
   },
   "source": [
    "# 图像分类\n",
    "\n",
    "在此项目中，你将对 [CIFAR-10 数据集](https://www.cs.toronto.edu/~kriz/cifar.html) 中的图片进行分类。该数据集包含飞机、猫狗和其他物体。你需要预处理这些图片，然后用所有样本训练一个卷积神经网络。图片需要标准化（normalized），标签需要采用 one-hot 编码。你需要应用所学的知识构建卷积的、最大池化（max pooling）、丢弃（dropout）和完全连接（fully connected）的层。最后，你需要在样本图片上看到神经网络的预测结果。\n",
    "\n",
    "\n",
    "## 获取数据\n",
    "\n",
    "请运行以下单元，以下载 [CIFAR-10 数据集（Python版）](https://www.cs.toronto.edu/~kriz/cifar-10-python.tar.gz)。\n"
   ]
  },
  {
   "cell_type": "code",
   "execution_count": 27,
   "metadata": {},
   "outputs": [
    {
     "name": "stdout",
     "output_type": "stream",
     "text": [
      "All files found!\n"
     ]
    }
   ],
   "source": [
    "\"\"\"\n",
    "DON'T MODIFY ANYTHING IN THIS CELL THAT IS BELOW THIS LINE\n",
    "\"\"\"\n",
    "from urllib.request import urlretrieve\n",
    "from os.path import isfile, isdir\n",
    "from tqdm import tqdm\n",
    "import problem_unittests as tests\n",
    "import tarfile\n",
    "\n",
    "cifar10_dataset_folder_path = 'cifar-10-batches-py'\n",
    "\n",
    "# Use Floyd's cifar-10 dataset if present\n",
    "floyd_cifar10_location = '/input/cifar-10/python.tar.gz'\n",
    "if isfile(floyd_cifar10_location):\n",
    "    tar_gz_path = floyd_cifar10_location\n",
    "else:\n",
    "    tar_gz_path = 'cifar-10-python.tar.gz'\n",
    "\n",
    "class DLProgress(tqdm):\n",
    "    last_block = 0\n",
    "\n",
    "    def hook(self, block_num=1, block_size=1, total_size=None):\n",
    "        self.total = total_size\n",
    "        self.update((block_num - self.last_block) * block_size)\n",
    "        self.last_block = block_num\n",
    "\n",
    "if not isfile(tar_gz_path):\n",
    "    with DLProgress(unit='B', unit_scale=True, miniters=1, desc='CIFAR-10 Dataset') as pbar:\n",
    "        urlretrieve(\n",
    "            'https://www.cs.toronto.edu/~kriz/cifar-10-python.tar.gz',\n",
    "            tar_gz_path,\n",
    "            pbar.hook)\n",
    "\n",
    "if not isdir(cifar10_dataset_folder_path):\n",
    "    with tarfile.open(tar_gz_path) as tar:\n",
    "        tar.extractall()\n",
    "        tar.close()\n",
    "\n",
    "\n",
    "tests.test_folder_path(cifar10_dataset_folder_path)"
   ]
  },
  {
   "cell_type": "code",
   "execution_count": 28,
   "metadata": {
    "collapsed": true
   },
   "outputs": [],
   "source": [
    "# import os\n",
    "# os.environ[\"CUDA_DEVICE_ORDER\"]=\"PCI_BUS_ID\"   # see issue #152\n",
    "# os.environ[\"CUDA_VISIBLE_DEVICES\"]=\"1\""
   ]
  },
  {
   "cell_type": "markdown",
   "metadata": {},
   "source": [
    "# USE GPU 1"
   ]
  },
  {
   "cell_type": "markdown",
   "metadata": {},
   "source": [
    "## 探索数据\n",
    "\n",
    "该数据集分成了几部分／批次（batches），以免你的机器在计算时内存不足。CIFAR-10 数据集包含 5 个部分，名称分别为 `data_batch_1`、`data_batch_2`，以此类推。每个部分都包含以下某个类别的标签和图片：\n",
    "\n",
    "* 飞机\n",
    "* 汽车\n",
    "* 鸟类\n",
    "* 猫\n",
    "* 鹿\n",
    "* 狗\n",
    "* 青蛙\n",
    "* 马\n",
    "* 船只\n",
    "* 卡车\n",
    "\n",
    "了解数据集也是对数据进行预测的必经步骤。你可以通过更改 `batch_id` 和 `sample_id` 探索下面的代码单元。`batch_id` 是数据集一个部分的 ID（1 到 5）。`sample_id` 是该部分中图片和标签对（label pair）的 ID。\n",
    "\n",
    "问问你自己：“可能的标签有哪些？”、“图片数据的值范围是多少？”、“标签是按顺序排列，还是随机排列的？”。思考类似的问题，有助于你预处理数据，并使预测结果更准确。\n"
   ]
  },
  {
   "cell_type": "markdown",
   "metadata": {},
   "source": [
    "1. 可能的标签\n",
    "    - 标签的数目是10个, 0-9\n",
    "    - 一个batch的数据数目是10000"
   ]
  },
  {
   "cell_type": "code",
   "execution_count": 29,
   "metadata": {},
   "outputs": [
    {
     "name": "stdout",
     "output_type": "stream",
     "text": [
      "\n",
      "Stats of batch 1:\n",
      "Samples: 10000\n",
      "Label Counts: {0: 1005, 1: 974, 2: 1032, 3: 1016, 4: 999, 5: 937, 6: 1030, 7: 1001, 8: 1025, 9: 981}\n",
      "First 20 Labels: [6, 9, 9, 4, 1, 1, 2, 7, 8, 3, 4, 7, 7, 2, 9, 9, 9, 3, 2, 6]\n",
      "\n",
      "Example of Image 6:\n",
      "Image - Min Value: 7 Max Value: 249\n",
      "Image - Shape: (32, 32, 3)\n",
      "Label - Label Id: 2 Name: bird\n"
     ]
    },
    {
     "data": {
      "image/png": "[encoded data removed]",
      "text/plain": [
       "<matplotlib.figure.Figure at 0x7f1c7692c9e8>"
      ]
     },
     "metadata": {
      "image/png": {
       "height": 250,
       "width": 253
      }
     },
     "output_type": "display_data"
    }
   ],
   "source": [
    "%matplotlib inline\n",
    "%config InlineBackend.figure_format = 'retina'\n",
    "\n",
    "import helper\n",
    "import numpy as np\n",
    "\n",
    "# Explore the dataset\n",
    "batch_id = 1\n",
    "sample_id = 6\n",
    "\n",
    "helper.display_stats(cifar10_dataset_folder_path, batch_id, sample_id)"
   ]
  },
  {
   "cell_type": "markdown",
   "metadata": {},
   "source": [
    "## 实现预处理函数\n",
    "\n",
    "### 标准化\n",
    "\n",
    "在下面的单元中，实现 `normalize` 函数，传入图片数据 `x`，并返回标准化 Numpy 数组。值应该在 0 到 1 的范围内（含 0 和 1）。返回对象应该和 `x` 的形状一样。\n"
   ]
  },
  {
   "cell_type": "markdown",
   "metadata": {},
   "source": [
    "1. 解题思路\n",
    "    - 使用mean=0, $std = \\frac{1}{\\sqrt{n}}$"
   ]
  },
  {
   "cell_type": "code",
   "execution_count": 30,
   "metadata": {},
   "outputs": [
    {
     "data": {
      "text/plain": [
       "array([ 0.5,  1. ,  1.5])"
      ]
     },
     "execution_count": 30,
     "metadata": {},
     "output_type": "execute_result"
    }
   ],
   "source": [
    "a = np.array([1, 2, 3])\n",
    "a / 2"
   ]
  },
  {
   "cell_type": "markdown",
   "metadata": {},
   "source": [
    "# TODO\n",
    "1. 这里只把原数据归一化\n",
    "2. 并没有使用正则化\n",
    "3. 需不需要使用正则化?"
   ]
  },
  {
   "cell_type": "code",
   "execution_count": 31,
   "metadata": {},
   "outputs": [
    {
     "name": "stdout",
     "output_type": "stream",
     "text": [
      "Tests Passed\n"
     ]
    }
   ],
   "source": [
    "def normalize(x):\n",
    "    \"\"\"\n",
    "    Normalize a list of sample image data in the range of 0 to 1\n",
    "    : x: List of image data.  The image shape is (32, 32, 3)\n",
    "    : return: Numpy array of normalize data\n",
    "    \"\"\"\n",
    "    # TODO: Implement Function\n",
    "    return (x-np.min(x))/(np.max(x)-np.min(x))\n",
    "\n",
    "\n",
    "\"\"\"\n",
    "DON'T MODIFY ANYTHING IN THIS CELL THAT IS BELOW THIS LINE\n",
    "\"\"\"\n",
    "tests.test_normalize(normalize)"
   ]
  },
  {
   "cell_type": "markdown",
   "metadata": {},
   "source": [
    "### One-hot 编码\n",
    "\n",
    "和之前的代码单元一样，你将为预处理实现一个函数。这次，你将实现 `one_hot_encode` 函数。输入，也就是 `x`，是一个标签列表。实现该函数，以返回为 one_hot 编码的 Numpy 数组的标签列表。标签的可能值为 0 到 9。每次调用 `one_hot_encode` 时，对于每个值，one_hot 编码函数应该返回相同的编码。确保将编码映射保存到该函数外面。\n",
    "\n",
    "提示：不要重复发明轮子。\n"
   ]
  },
  {
   "cell_type": "code",
   "execution_count": 32,
   "metadata": {},
   "outputs": [
    {
     "name": "stdout",
     "output_type": "stream",
     "text": [
      "Tests Passed\n"
     ]
    }
   ],
   "source": [
    "import pandas as pd\n",
    "from sklearn.preprocessing import LabelBinarizer\n",
    "lb = LabelBinarizer(neg_label=0, pos_label=1)    \n",
    "lb.fit(range(10))\n",
    "def one_hot_encode(x):\n",
    "    \"\"\"\n",
    "    One hot encode a list of sample labels. Return a one-hot encoded vector for each label.\n",
    "    : x: List of sample Labels\n",
    "    : return: Numpy array of one-hot encoded labels\n",
    "    \"\"\"\n",
    "    # TODO: Implement Function\n",
    "    \n",
    "    res = lb.transform(x)\n",
    "    return res\n",
    "\n",
    "\"\"\"\n",
    "DON'T MODIFY ANYTHING IN THIS CELL THAT IS BELOW THIS LINE\n",
    "\"\"\"\n",
    "tests.test_one_hot_encode(one_hot_encode)"
   ]
  },
  {
   "cell_type": "markdown",
   "metadata": {},
   "source": [
    "### 随机化数据\n",
    "\n",
    "之前探索数据时，你已经了解到，样本的顺序是随机的。再随机化一次也不会有什么关系，但是对于这个数据集没有必要。\n"
   ]
  },
  {
   "cell_type": "markdown",
   "metadata": {},
   "source": [
    "## 预处理所有数据并保存\n",
    "\n",
    "运行下方的代码单元，将预处理所有 CIFAR-10 数据，并保存到文件中。下面的代码还使用了 10% 的训练数据，用来验证。\n"
   ]
  },
  {
   "cell_type": "code",
   "execution_count": 33,
   "metadata": {
    "collapsed": true
   },
   "outputs": [],
   "source": [
    "\"\"\"\n",
    "DON'T MODIFY ANYTHING IN THIS CELL\n",
    "\"\"\"\n",
    "# Preprocess Training, Validation, and Testing Data\n",
    "helper.preprocess_and_save_data(cifar10_dataset_folder_path, normalize, one_hot_encode)"
   ]
  },
  {
   "cell_type": "markdown",
   "metadata": {},
   "source": [
    "# 检查点\n",
    "\n",
    "这是你的第一个检查点。如果你什么时候决定再回到该记事本，或需要重新启动该记事本，你可以从这里开始。预处理的数据已保存到本地。\n"
   ]
  },
  {
   "cell_type": "code",
   "execution_count": 34,
   "metadata": {
    "collapsed": true
   },
   "outputs": [],
   "source": [
    "\"\"\"\n",
    "DON'T MODIFY ANYTHING IN THIS CELL\n",
    "\"\"\"\n",
    "import pickle\n",
    "import problem_unittests as tests\n",
    "import helper\n",
    "\n",
    "# Load the Preprocessed Validation data\n",
    "valid_features, valid_labels = pickle.load(open('preprocess_validation.p', mode='rb'))"
   ]
  },
  {
   "cell_type": "markdown",
   "metadata": {},
   "source": [
    "## 构建网络\n",
    "\n",
    "对于该神经网络，你需要将每层都构建为一个函数。你看到的大部分代码都位于函数外面。要更全面地测试你的代码，我们需要你将每层放入一个函数中。这样使我们能够提供更好的反馈，并使用我们的统一测试检测简单的错误，然后再提交项目。\n",
    "\n",
    ">**注意**：如果你觉得每周很难抽出足够的时间学习这门课程，我们为此项目提供了一个小捷径。对于接下来的几个问题，你可以使用 [TensorFlow Layers](https://www.tensorflow.org/api_docs/python/tf/layers) 或 [TensorFlow Layers (contrib)](https://www.tensorflow.org/api_guides/python/contrib.layers) 程序包中的类来构建每个层级，但是“卷积和最大池化层级”部分的层级除外。TF Layers 和 Keras 及 TFLearn 层级类似，因此很容易学会。\n",
    "\n",
    ">但是，如果你想充分利用这门课程，请尝试自己解决所有问题，不使用 TF Layers 程序包中的任何类。你依然可以使用其他程序包中的类，这些类和你在 TF Layers 中的类名称是一样的！例如，你可以使用 TF Neural Network 版本的 `conv2d` 类 [tf.nn.conv2d](https://www.tensorflow.org/api_docs/python/tf/nn/conv2d)，而不是 TF Layers 版本的 `conv2d` 类 [tf.layers.conv2d](https://www.tensorflow.org/api_docs/python/tf/layers/conv2d)。\n",
    "\n",
    "我们开始吧！\n",
    "\n",
    "\n",
    "### 输入\n",
    "\n",
    "神经网络需要读取图片数据、one-hot 编码标签和丢弃保留概率（dropout keep probability）。请实现以下函数：\n",
    "\n",
    "* 实现 `neural_net_image_input`\n",
    " * 返回 [TF Placeholder](https://www.tensorflow.org/api_docs/python/tf/placeholder)\n",
    " * 使用 `image_shape` 设置形状，部分大小设为 `None`\n",
    " * 使用 [TF Placeholder](https://www.tensorflow.org/api_docs/python/tf/placeholder) 中的 TensorFlow `name` 参数对 TensorFlow 占位符 \"x\" 命名\n",
    "* 实现 `neural_net_label_input`\n",
    " * 返回 [TF Placeholder](https://www.tensorflow.org/api_docs/python/tf/placeholder)\n",
    " * 使用 `n_classes` 设置形状，部分大小设为 `None`\n",
    " * 使用 [TF Placeholder](https://www.tensorflow.org/api_docs/python/tf/placeholder) 中的 TensorFlow `name` 参数对 TensorFlow 占位符 \"y\" 命名\n",
    "* 实现 `neural_net_keep_prob_input`\n",
    " * 返回 [TF Placeholder](https://www.tensorflow.org/api_docs/python/tf/placeholder)，用于丢弃保留概率\n",
    " * 使用 [TF Placeholder](https://www.tensorflow.org/api_docs/python/tf/placeholder) 中的 TensorFlow `name` 参数对 TensorFlow 占位符 \"keep_prob\" 命名\n",
    "\n",
    "这些名称将在项目结束时，用于加载保存的模型。\n",
    "\n",
    "注意：TensorFlow 中的 `None` 表示形状可以是动态大小。"
   ]
  },
  {
   "cell_type": "code",
   "execution_count": 35,
   "metadata": {},
   "outputs": [
    {
     "name": "stdout",
     "output_type": "stream",
     "text": [
      "Image Input Tests Passed.\n",
      "Label Input Tests Passed.\n",
      "Keep Prob Tests Passed.\n"
     ]
    }
   ],
   "source": [
    "import tensorflow as tf\n",
    "\n",
    "def neural_net_image_input(image_shape):\n",
    "    \"\"\"\n",
    "    Return a Tensor for a batch of image input\n",
    "    : image_shape: Shape of the images\n",
    "    : return: Tensor for image input.\n",
    "    \"\"\"\n",
    "    # TODO: Implement Function\n",
    "    # type(image_shape) is tuple.\n",
    "    return tf.placeholder(tf.float32, shape=(None, image_shape[0], image_shape[1], image_shape[-1]), name='x')\n",
    "\n",
    "def neural_net_label_input(n_classes):\n",
    "    \"\"\"\n",
    "    Return a Tensor for a batch of label input\n",
    "    : n_classes: Number of classes\n",
    "    : return: Tensor for label input.\n",
    "    \"\"\"\n",
    "    # TODO: Implement Function\n",
    "    \n",
    "    return tf.placeholder(dtype=tf.float32, shape=(None, n_classes), name='y')\n",
    "\n",
    "\n",
    "def neural_net_keep_prob_input():\n",
    "    \"\"\"\n",
    "    Return a Tensor for keep probability\n",
    "    : return: Tensor for keep probability.\n",
    "    \"\"\"\n",
    "    # TODO: Implement Function\n",
    "    \n",
    "    return tf.placeholder(tf.float32, shape=None, name='keep_prob')\n",
    "\n",
    "\n",
    "\"\"\"\n",
    "DON'T MODIFY ANYTHING IN THIS CELL THAT IS BELOW THIS LINE\n",
    "\"\"\"\n",
    "tf.reset_default_graph()\n",
    "tests.test_nn_image_inputs(neural_net_image_input)\n",
    "tests.test_nn_label_inputs(neural_net_label_input)\n",
    "tests.test_nn_keep_prob_inputs(neural_net_keep_prob_input)"
   ]
  },
  {
   "cell_type": "markdown",
   "metadata": {},
   "source": [
    "### 卷积和最大池化层\n",
    "\n",
    "卷积层级适合处理图片。对于此代码单元，你应该实现函数 `conv2d_maxpool` 以便应用卷积然后进行最大池化：\n",
    "\n",
    "* 使用 `conv_ksize`、`conv_num_outputs` 和 `x_tensor` 的形状创建权重（weight）和偏置（bias）。\n",
    "* 使用权重和 `conv_strides` 对 `x_tensor` 应用卷积。\n",
    " * 建议使用我们建议的间距（padding），当然也可以使用任何其他间距。\n",
    "* 添加偏置\n",
    "* 向卷积中添加非线性激活（nonlinear activation）\n",
    "* 使用 `pool_ksize` 和 `pool_strides` 应用最大池化\n",
    " * 建议使用我们建议的间距（padding），当然也可以使用任何其他间距。\n",
    "\n",
    "**注意**：对于**此层**，**请勿使用** [TensorFlow Layers](https://www.tensorflow.org/api_docs/python/tf/layers) 或 [TensorFlow Layers (contrib)](https://www.tensorflow.org/api_guides/python/contrib.layers)，但是仍然可以使用 TensorFlow 的 [Neural Network](https://www.tensorflow.org/api_docs/python/tf/nn) 包。对于所有**其他层**，你依然可以使用快捷方法。\n"
   ]
  },
  {
   "cell_type": "code",
   "execution_count": 36,
   "metadata": {},
   "outputs": [
    {
     "name": "stdout",
     "output_type": "stream",
     "text": [
      "Tests Passed\n"
     ]
    }
   ],
   "source": [
    "def conv2d_maxpool(x_tensor, conv_num_outputs, conv_ksize, conv_strides, pool_ksize, pool_strides):\n",
    "    \"\"\"\n",
    "    Apply convolution then max pooling to x_tensor\n",
    "    :param x_tensor: TensorFlow Tensor\n",
    "    :param conv_num_outputs: Number of outputs for the convolutional layer\n",
    "    :param conv_ksize: kernal size 2-D Tuple for the convolutional layer\n",
    "    :param conv_strides: Stride 2-D Tuple for convolution\n",
    "    :param pool_ksize: kernal size 2-D Tuple for pool\n",
    "    :param pool_strides: Stride 2-D Tuple for pool\n",
    "    : return: A tensor that represents convolution and max pooling of x_tensor\n",
    "    \"\"\"\n",
    "    # TODO: Implement Function\n",
    "    # x * kernal\n",
    "    # create weights and bias\n",
    "    input_channel = x_tensor.get_shape().as_list()[-1]\n",
    "    weight = tf.Variable(tf.truncated_normal(shape=(conv_ksize[0], conv_ksize[1], input_channel, conv_num_outputs), stddev=0.0625))\n",
    "    bias = tf.Variable(tf.zeros(conv_num_outputs), name='bias')\n",
    "    # use conv2d to conv and calculate\n",
    "    conv = tf.nn.conv2d(x_tensor, weight, [1, conv_strides[0], conv_strides[1], 1], padding='SAME')\n",
    "    conv = tf.nn.relu(tf.add(conv, bias))\n",
    "    conv = tf.nn.max_pool(conv, ksize=[1, pool_ksize[0], pool_ksize[1], 1], strides=[1, pool_strides[0], pool_strides[1], 1], padding='SAME', name='max_pool')\n",
    "    return conv\n",
    "\n",
    "\n",
    "\"\"\"\n",
    "DON'T MODIFY ANYTHING IN THIS CELL THAT IS BELOW THIS LINE\n",
    "\"\"\"\n",
    "tests.test_con_pool(conv2d_maxpool)"
   ]
  },
  {
   "cell_type": "markdown",
   "metadata": {},
   "source": [
    "### 扁平化层\n",
    "\n",
    "实现 `flatten` 函数，将 `x_tensor` 的维度从四维张量（4-D tensor）变成二维张量。输出应该是形状（*部分大小（Batch Size）*，*扁平化图片大小（Flattened Image Size）*）。快捷方法：对于此层，你可以使用 [TensorFlow Layers](https://www.tensorflow.org/api_docs/python/tf/layers) 或 [TensorFlow Layers (contrib)](https://www.tensorflow.org/api_guides/python/contrib.layers) 包中的类。如果你想要更大挑战，可以仅使用其他 TensorFlow 程序包。\n"
   ]
  },
  {
   "cell_type": "code",
   "execution_count": 37,
   "metadata": {},
   "outputs": [
    {
     "name": "stdout",
     "output_type": "stream",
     "text": [
      "Tests Passed\n"
     ]
    }
   ],
   "source": [
    "def flatten(x_tensor):\n",
    "    \"\"\"\n",
    "    Flatten x_tensor to (Batch Size, Flattened Image Size)\n",
    "    : x_tensor: A tensor of size (Batch Size, ...), where ... are the image dimensions.\n",
    "    : return: A tensor of size (Batch Size, Flattened Image Size).\n",
    "    \"\"\"\n",
    "    # TODO: Implement Function\n",
    "    shape = x_tensor.get_shape().as_list()\n",
    "    dim = shape[1]*shape[2]*shape[3]\n",
    "    return tf.reshape(x_tensor, [-1, dim])\n",
    "\n",
    "\"\"\"\n",
    "DON'T MODIFY ANYTHING IN THIS CELL THAT IS BELOW THIS LINE\n",
    "\"\"\"\n",
    "tests.test_flatten(flatten)"
   ]
  },
  {
   "cell_type": "markdown",
   "metadata": {},
   "source": [
    "### 全连接层\n",
    "\n",
    "实现 `fully_conn` 函数，以向 `x_tensor` 应用完全连接的层级，形状为（*部分大小（Batch Size）*，*num_outputs*）。快捷方法：对于此层，你可以使用 [TensorFlow Layers](https://www.tensorflow.org/api_docs/python/tf/layers) 或 [TensorFlow Layers (contrib)](https://www.tensorflow.org/api_guides/python/contrib.layers) 包中的类。如果你想要更大挑战，可以仅使用其他 TensorFlow 程序包。"
   ]
  },
  {
   "cell_type": "code",
   "execution_count": 38,
   "metadata": {},
   "outputs": [
    {
     "name": "stdout",
     "output_type": "stream",
     "text": [
      "Tests Passed\n"
     ]
    }
   ],
   "source": [
    "def fully_conn(x_tensor, num_outputs):\n",
    "    \"\"\"\n",
    "    Apply a fully connected layer to x_tensor using weight and bias\n",
    "    : x_tensor: A 2-D tensor where the first dimension is batch size.\n",
    "    : num_outputs: The number of output that the new tensor should be.\n",
    "    : return: A 2-D tensor where the second dimension is num_outputs.\n",
    "    \"\"\"\n",
    "    # TODO: Implement Function\n",
    "    # create weights and bias\n",
    "    # calculate x * weights + bias\n",
    "    # Do i need activation function here? Yes I do.\n",
    "    input_shape = x_tensor.get_shape().as_list()\n",
    "    weight = tf.Variable(tf.truncated_normal(shape=(input_shape[1], num_outputs), mean=0, stddev=0.0625))\n",
    "    bias = tf.Variable(tf.zeros(num_outputs))\n",
    "    return tf.nn.relu(tf.add(tf.matmul(x_tensor, weight), bias))\n",
    "\n",
    "\n",
    "\"\"\"\n",
    "DON'T MODIFY ANYTHING IN THIS CELL THAT IS BELOW THIS LINE\n",
    "\"\"\"\n",
    "tests.test_fully_conn(fully_conn)"
   ]
  },
  {
   "cell_type": "markdown",
   "metadata": {},
   "source": [
    "### 输出层\n",
    "\n",
    "实现 `output` 函数，向 x_tensor 应用完全连接的层级，形状为（*部分大小（Batch Size）*，*num_outputs*）。快捷方法：对于此层，你可以使用 [TensorFlow Layers](https://www.tensorflow.org/api_docs/python/tf/layers) 或 [TensorFlow Layers (contrib)](https://www.tensorflow.org/api_guides/python/contrib.layers) 包中的类。如果你想要更大挑战，可以仅使用其他 TensorFlow 程序包。\n",
    "\n",
    "**注意**：该层级不应应用 Activation、softmax 或交叉熵（cross entropy）。"
   ]
  },
  {
   "cell_type": "code",
   "execution_count": 39,
   "metadata": {},
   "outputs": [
    {
     "name": "stdout",
     "output_type": "stream",
     "text": [
      "Tests Passed\n"
     ]
    }
   ],
   "source": [
    "def output(x_tensor, num_outputs):\n",
    "    \"\"\"\n",
    "    Apply a output layer to x_tensor using weight and bias\n",
    "    : x_tensor: A 2-D tensor where the first dimension is batch size.\n",
    "    : num_outputs: The number of output that the new tensor should be.\n",
    "    : return: A 2-D tensor where the second dimension is num_outputs.\n",
    "    \"\"\"\n",
    "    # TODO: Implement Function\n",
    "    input_shape = x_tensor.get_shape().as_list()\n",
    "    weight = tf.Variable(tf.truncated_normal(shape=(input_shape[1], num_outputs), stddev=0.0625))\n",
    "    bias = tf.Variable(tf.zeros(num_outputs))\n",
    "    return tf.add(tf.matmul(x_tensor, weight), bias)\n",
    "\n",
    "\n",
    "\"\"\"\n",
    "DON'T MODIFY ANYTHING IN THIS CELL THAT IS BELOW THIS LINE\n",
    "\"\"\"\n",
    "tests.test_output(output)"
   ]
  },
  {
   "cell_type": "markdown",
   "metadata": {},
   "source": [
    "### 创建卷积模型\n",
    "\n",
    "实现函数 `conv_net`， 创建卷积神经网络模型。该函数传入一批图片 `x`，并输出对数（logits）。使用你在上方创建的层创建此模型：\n",
    "\n",
    "* 应用 1、2 或 3 个卷积和最大池化层（Convolution and Max Pool layers）\n",
    "* 应用一个扁平层（Flatten Layer）\n",
    "* 应用 1、2 或 3 个完全连接层（Fully Connected Layers）\n",
    "* 应用一个输出层（Output Layer）\n",
    "* 返回输出\n",
    "* 使用 `keep_prob` 向模型中的一个或多个层应用 [TensorFlow 的 Dropout](https://www.tensorflow.org/api_docs/python/tf/nn/dropout)"
   ]
  },
  {
   "cell_type": "code",
   "execution_count": 40,
   "metadata": {},
   "outputs": [
    {
     "name": "stdout",
     "output_type": "stream",
     "text": [
      "Neural Network Built!\n"
     ]
    }
   ],
   "source": [
    "def conv_net(x, keep_prob):\n",
    "    \"\"\"\n",
    "    Create a convolutional neural network model\n",
    "    : x: Placeholder tensor that holds image data.\n",
    "    : keep_prob: Placeholder tensor that hold dropout keep probability.\n",
    "    : return: Tensor that represents logits\n",
    "    \"\"\"\n",
    "    # TODO: Apply 1, 2, or 3 Convolution and Max Pool layers\n",
    "    #    Play around with different number of outputs, kernel size and stride\n",
    "    # Function Definition from Above:\n",
    "    #    conv2d_maxpool(x_tensor, conv_num_outputs, conv_ksize, conv_strides, pool_ksize, pool_strides)\n",
    "    x = conv2d_maxpool(x, 32, [2, 2], [1, 1], [2, 2], [2, 2])\n",
    "    x = conv2d_maxpool(x, 64, [2, 2], [2, 2], [2, 2], [2, 2])\n",
    "    \n",
    "    \n",
    "    # TODO: Apply a Flatten Layer\n",
    "    # Function Definition from Above:\n",
    "    #   flatten(x_tensor)\n",
    "    x = flatten(x)\n",
    "    \n",
    "    # TODO: Apply 1, 2, or 3 Fully Connected Layers\n",
    "    #    Play around with different number of outputs\n",
    "    # Function Definition from Above:\n",
    "    #   fully_conn(x_tensor, num_outputs)\n",
    "    x = fully_conn(x, 512)\n",
    "    x = tf.nn.dropout(x, keep_prob)\n",
    "    x = fully_conn(x, 256)\n",
    "    # TODO: Apply an Output Layer\n",
    "    #    Set this to the number of classes\n",
    "    # Function Definition from Above:\n",
    "    #   output(x_tensor, num_outputs)\n",
    "    classes = output(x, 10)\n",
    "    \n",
    "    # TODO: return output\n",
    "    return classes\n",
    "\n",
    "\n",
    "\"\"\"\n",
    "DON'T MODIFY ANYTHING IN THIS CELL THAT IS BELOW THIS LINE\n",
    "\"\"\"\n",
    "\n",
    "##############################\n",
    "## Build the Neural Network ##\n",
    "##############################\n",
    "\n",
    "# Remove previous weights, bias, inputs, etc..\n",
    "tf.reset_default_graph()\n",
    "\n",
    "# Inputs\n",
    "x = neural_net_image_input((32, 32, 3))\n",
    "y = neural_net_label_input(10)\n",
    "keep_prob = neural_net_keep_prob_input()\n",
    "\n",
    "# Model\n",
    "logits = conv_net(x, keep_prob)\n",
    "\n",
    "# Name logits Tensor, so that is can be loaded from disk after training\n",
    "logits = tf.identity(logits, name='logits')\n",
    "\n",
    "# Loss and Optimizer\n",
    "cost = tf.reduce_mean(tf.nn.softmax_cross_entropy_with_logits(logits=logits, labels=y))\n",
    "optimizer = tf.train.AdamOptimizer().minimize(cost)\n",
    "\n",
    "# Accuracy\n",
    "correct_pred = tf.equal(tf.argmax(logits, 1), tf.argmax(y, 1))\n",
    "accuracy = tf.reduce_mean(tf.cast(correct_pred, tf.float32), name='accuracy')\n",
    "\n",
    "tests.test_conv_net(conv_net)"
   ]
  },
  {
   "cell_type": "markdown",
   "metadata": {},
   "source": [
    "## 训练神经网络\n",
    "\n",
    "### 单次优化\n",
    "\n",
    "实现函数 `train_neural_network` 以进行单次优化（single optimization）。该优化应该使用 `optimizer` 优化 `session`，其中 `feed_dict` 具有以下参数：\n",
    "\n",
    "* `x` 表示图片输入\n",
    "* `y` 表示标签\n",
    "* `keep_prob` 表示丢弃的保留率\n",
    "\n",
    "每个部分都会调用该函数，所以 `tf.global_variables_initializer()` 已经被调用。\n",
    "\n",
    "注意：不需要返回任何内容。该函数只是用来优化神经网络。\n"
   ]
  },
  {
   "cell_type": "code",
   "execution_count": 41,
   "metadata": {},
   "outputs": [
    {
     "name": "stdout",
     "output_type": "stream",
     "text": [
      "Tests Passed\n"
     ]
    }
   ],
   "source": [
    "def train_neural_network(session, optimizer, keep_probability, feature_batch, label_batch):\n",
    "    \"\"\"\n",
    "    Optimize the session on a batch of images and labels\n",
    "    : session: Current TensorFlow session\n",
    "    : optimizer: TensorFlow optimizer function\n",
    "    : keep_probability: keep probability\n",
    "    : feature_batch: Batch of Numpy image data\n",
    "    : label_batch: Batch of Numpy label data\n",
    "    \"\"\"\n",
    "    # TODO: Implement Function\n",
    "    session.run(optimizer, feed_dict={x: feature_batch, y:label_batch, keep_prob:keep_probability})\n",
    "    pass\n",
    "\n",
    "\n",
    "\"\"\"\n",
    "DON'T MODIFY ANYTHING IN THIS CELL THAT IS BELOW THIS LINE\n",
    "\"\"\"\n",
    "tests.test_train_nn(train_neural_network)"
   ]
  },
  {
   "cell_type": "markdown",
   "metadata": {},
   "source": [
    "### 显示数据\n",
    "\n",
    "实现函数 `print_stats` 以输出损失和验证准确率。使用全局变量 `valid_features` 和 `valid_labels` 计算验证准确率。使用保留率 `1.0` 计算损失和验证准确率（loss and validation accuracy）。\n"
   ]
  },
  {
   "cell_type": "code",
   "execution_count": 42,
   "metadata": {
    "collapsed": true
   },
   "outputs": [],
   "source": [
    "def print_stats(session, feature_batch, label_batch, cost, accuracy):\n",
    "    \"\"\"\n",
    "    Print information about loss and validation accuracy\n",
    "    : session: Current TensorFlow session\n",
    "    : feature_batch: Batch of Numpy image data\n",
    "    : label_batch: Batch of Numpy label data\n",
    "    : cost: TensorFlow cost function\n",
    "    : accuracy: TensorFlow accuracy function\n",
    "    \"\"\"\n",
    "    # TODO: Implement Function\n",
    "    print('loss: ', session.run(cost, feed_dict={x:feature_batch, y:label_batch, keep_prob:1.0}),'accuracy: ', session.run(accuracy, feed_dict={x:valid_features, y:valid_labels, keep_prob:1.0}))\n",
    "    pass"
   ]
  },
  {
   "cell_type": "markdown",
   "metadata": {},
   "source": [
    "### 超参数\n",
    "\n",
    "调试以下超参数：\n",
    "* 设置 `epochs` 表示神经网络停止学习或开始过拟合的迭代次数\n",
    "* 设置 `batch_size`，表示机器内存允许的部分最大体积。大部分人设为以下常见内存大小：\n",
    "\n",
    " * 64\n",
    " * 128\n",
    " * 256\n",
    " * ...\n",
    "* 设置 `keep_probability` 表示使用丢弃时保留节点的概率"
   ]
  },
  {
   "cell_type": "code",
   "execution_count": 43,
   "metadata": {
    "collapsed": true
   },
   "outputs": [],
   "source": [
    "# TODO: Tune Parameters\n",
    "epochs = 60\n",
    "batch_size = 256\n",
    "keep_probability = 0.5"
   ]
  },
  {
   "cell_type": "markdown",
   "metadata": {},
   "source": [
    "### 在单个 CIFAR-10 部分上训练\n",
    "\n",
    "我们先用单个部分，而不是用所有的 CIFAR-10 批次训练神经网络。这样可以节省时间，并对模型进行迭代，以提高准确率。最终验证准确率达到 50% 或以上之后，在下一部分对所有数据运行模型。\n"
   ]
  },
  {
   "cell_type": "code",
   "execution_count": 45,
   "metadata": {},
   "outputs": [
    {
     "name": "stdout",
     "output_type": "stream",
     "text": [
      "Checking the Training on a Single Batch...\n",
      "Epoch  1, CIFAR-10 Batch 1:  loss:  2.18221 accuracy:  0.2628\n",
      "Epoch  2, CIFAR-10 Batch 1:  loss:  2.11154 accuracy:  0.3136\n",
      "Epoch  3, CIFAR-10 Batch 1:  loss:  1.8632 accuracy:  0.3962\n",
      "Epoch  4, CIFAR-10 Batch 1:  loss:  1.66395 accuracy:  0.432\n",
      "Epoch  5, CIFAR-10 Batch 1:  loss:  1.53038 accuracy:  0.4528\n",
      "Epoch  6, CIFAR-10 Batch 1:  loss:  1.44353 accuracy:  0.4662\n",
      "Epoch  7, CIFAR-10 Batch 1:  loss:  1.32456 accuracy:  0.4812\n",
      "Epoch  8, CIFAR-10 Batch 1:  loss:  1.23613 accuracy:  0.4994\n",
      "Epoch  9, CIFAR-10 Batch 1:  loss:  1.12915 accuracy:  0.511\n",
      "Epoch 10, CIFAR-10 Batch 1:  loss:  1.08543 accuracy:  0.5136\n",
      "Epoch 11, CIFAR-10 Batch 1:  loss:  0.982937 accuracy:  0.5226\n",
      "Epoch 12, CIFAR-10 Batch 1:  loss:  0.894142 accuracy:  0.5296\n",
      "Epoch 13, CIFAR-10 Batch 1:  loss:  0.797626 accuracy:  0.5354\n",
      "Epoch 14, CIFAR-10 Batch 1:  loss:  0.73145 accuracy:  0.5426\n",
      "Epoch 15, CIFAR-10 Batch 1:  loss:  0.647581 accuracy:  0.548\n",
      "Epoch 16, CIFAR-10 Batch 1:  loss:  0.563121 accuracy:  0.5534\n",
      "Epoch 17, CIFAR-10 Batch 1:  loss:  0.515884 accuracy:  0.5528\n",
      "Epoch 18, CIFAR-10 Batch 1:  loss:  0.452075 accuracy:  0.5636\n",
      "Epoch 19, CIFAR-10 Batch 1:  loss:  0.414947 accuracy:  0.562\n",
      "Epoch 20, CIFAR-10 Batch 1:  loss:  0.374896 accuracy:  0.5644\n",
      "Epoch 21, CIFAR-10 Batch 1:  loss:  0.345785 accuracy:  0.5646\n",
      "Epoch 22, CIFAR-10 Batch 1:  loss:  0.282781 accuracy:  0.5738\n",
      "Epoch 23, CIFAR-10 Batch 1:  loss:  0.264952 accuracy:  0.5708\n",
      "Epoch 24, CIFAR-10 Batch 1:  loss:  0.24302 accuracy:  0.5644\n",
      "Epoch 25, CIFAR-10 Batch 1:  loss:  0.212861 accuracy:  0.5736\n",
      "Epoch 26, CIFAR-10 Batch 1:  loss:  0.175568 accuracy:  0.5866\n",
      "Epoch 27, CIFAR-10 Batch 1:  loss:  0.157814 accuracy:  0.5846\n",
      "Epoch 28, CIFAR-10 Batch 1:  loss:  0.133579 accuracy:  0.5738\n",
      "Epoch 29, CIFAR-10 Batch 1:  loss:  0.110471 accuracy:  0.5898\n",
      "Epoch 30, CIFAR-10 Batch 1:  loss:  0.0941657 accuracy:  0.584\n",
      "Epoch 31, CIFAR-10 Batch 1:  loss:  0.0866247 accuracy:  0.584\n",
      "Epoch 32, CIFAR-10 Batch 1:  loss:  0.0946936 accuracy:  0.5766\n",
      "Epoch 33, CIFAR-10 Batch 1:  loss:  0.0691279 accuracy:  0.5782\n",
      "Epoch 34, CIFAR-10 Batch 1:  loss:  0.0588755 accuracy:  0.5906\n",
      "Epoch 35, CIFAR-10 Batch 1:  loss:  0.0520777 accuracy:  0.5844\n",
      "Epoch 36, CIFAR-10 Batch 1:  loss:  0.0569737 accuracy:  0.5832\n",
      "Epoch 37, CIFAR-10 Batch 1:  loss:  0.0627742 accuracy:  0.5702\n",
      "Epoch 38, CIFAR-10 Batch 1:  loss:  0.0412478 accuracy:  0.5736\n",
      "Epoch 39, CIFAR-10 Batch 1:  loss:  0.0342827 accuracy:  0.5616\n",
      "Epoch 40, CIFAR-10 Batch 1:  loss:  0.0294294 accuracy:  0.5788\n",
      "Epoch 41, CIFAR-10 Batch 1:  loss:  0.0395153 accuracy:  0.5764\n",
      "Epoch 42, CIFAR-10 Batch 1:  loss:  0.0327201 accuracy:  0.5796\n",
      "Epoch 43, CIFAR-10 Batch 1:  loss:  0.036174 accuracy:  0.5744\n",
      "Epoch 44, CIFAR-10 Batch 1:  loss:  0.0239712 accuracy:  0.5876\n",
      "Epoch 45, CIFAR-10 Batch 1:  loss:  0.0169131 accuracy:  0.5884\n",
      "Epoch 46, CIFAR-10 Batch 1:  loss:  0.0205795 accuracy:  0.573\n",
      "Epoch 47, CIFAR-10 Batch 1:  loss:  0.0208826 accuracy:  0.5782\n",
      "Epoch 48, CIFAR-10 Batch 1:  loss:  0.0109345 accuracy:  0.5858\n",
      "Epoch 49, CIFAR-10 Batch 1:  loss:  0.00926889 accuracy:  0.5868\n",
      "Epoch 50, CIFAR-10 Batch 1:  loss:  0.0107179 accuracy:  0.5818\n",
      "Epoch 51, CIFAR-10 Batch 1:  loss:  0.00938932 accuracy:  0.5916\n",
      "Epoch 52, CIFAR-10 Batch 1:  loss:  0.00903012 accuracy:  0.5882\n",
      "Epoch 53, CIFAR-10 Batch 1:  loss:  0.00463922 accuracy:  0.5906\n",
      "Epoch 54, CIFAR-10 Batch 1:  loss:  0.00510815 accuracy:  0.5846\n",
      "Epoch 55, CIFAR-10 Batch 1:  loss:  0.00456942 accuracy:  0.5774\n",
      "Epoch 56, CIFAR-10 Batch 1:  loss:  0.00441137 accuracy:  0.578\n",
      "Epoch 57, CIFAR-10 Batch 1:  loss:  0.00517105 accuracy:  0.5752\n",
      "Epoch 58, CIFAR-10 Batch 1:  loss:  0.00504692 accuracy:  0.5758\n",
      "Epoch 59, CIFAR-10 Batch 1:  loss:  0.00634358 accuracy:  0.5576\n",
      "Epoch 60, CIFAR-10 Batch 1:  loss:  0.00569129 accuracy:  0.5576\n"
     ]
    }
   ],
   "source": [
    "\"\"\"\n",
    "DON'T MODIFY ANYTHING IN THIS CELL\n",
    "\"\"\"\n",
    "print('Checking the Training on a Single Batch...')\n",
    "with tf.Session() as sess:\n",
    "    # Initializing the variables\n",
    "    sess.run(tf.global_variables_initializer())\n",
    "    \n",
    "    # Training cycle\n",
    "    for epoch in range(epochs):\n",
    "        batch_i = 1\n",
    "        for batch_features, batch_labels in helper.load_preprocess_training_batch(batch_i, batch_size):\n",
    "            train_neural_network(sess, optimizer, keep_probability, batch_features, batch_labels)\n",
    "        print('Epoch {:>2}, CIFAR-10 Batch {}:  '.format(epoch + 1, batch_i), end='')\n",
    "        print_stats(sess, batch_features, batch_labels, cost, accuracy)"
   ]
  },
  {
   "cell_type": "markdown",
   "metadata": {},
   "source": [
    "### 完全训练模型\n",
    "\n",
    "现在，单个 CIFAR-10 部分的准确率已经不错了，试试所有五个部分吧。"
   ]
  },
  {
   "cell_type": "code",
   "execution_count": 46,
   "metadata": {
    "scrolled": false
   },
   "outputs": [
    {
     "name": "stdout",
     "output_type": "stream",
     "text": [
      "Training...\n",
      "Epoch  1, CIFAR-10 Batch 1:  loss:  2.18624 accuracy:  0.256\n",
      "Epoch  1, CIFAR-10 Batch 2:  loss:  1.90437 accuracy:  0.3258\n",
      "Epoch  1, CIFAR-10 Batch 3:  loss:  1.5784 accuracy:  0.3684\n",
      "Epoch  1, CIFAR-10 Batch 4:  loss:  1.59963 accuracy:  0.421\n",
      "Epoch  1, CIFAR-10 Batch 5:  loss:  1.57091 accuracy:  0.4442\n",
      "Epoch  2, CIFAR-10 Batch 1:  loss:  1.66847 accuracy:  0.466\n",
      "Epoch  2, CIFAR-10 Batch 2:  loss:  1.37781 accuracy:  0.4792\n",
      "Epoch  2, CIFAR-10 Batch 3:  loss:  1.16842 accuracy:  0.4842\n",
      "Epoch  2, CIFAR-10 Batch 4:  loss:  1.22463 accuracy:  0.5094\n",
      "Epoch  2, CIFAR-10 Batch 5:  loss:  1.28659 accuracy:  0.5104\n",
      "Epoch  3, CIFAR-10 Batch 1:  loss:  1.46917 accuracy:  0.514\n",
      "Epoch  3, CIFAR-10 Batch 2:  loss:  1.18347 accuracy:  0.518\n",
      "Epoch  3, CIFAR-10 Batch 3:  loss:  1.01062 accuracy:  0.5206\n",
      "Epoch  3, CIFAR-10 Batch 4:  loss:  1.05625 accuracy:  0.5404\n",
      "Epoch  3, CIFAR-10 Batch 5:  loss:  1.12015 accuracy:  0.5402\n",
      "Epoch  4, CIFAR-10 Batch 1:  loss:  1.26633 accuracy:  0.5482\n",
      "Epoch  4, CIFAR-10 Batch 2:  loss:  1.01888 accuracy:  0.5492\n",
      "Epoch  4, CIFAR-10 Batch 3:  loss:  0.891138 accuracy:  0.5384\n",
      "Epoch  4, CIFAR-10 Batch 4:  loss:  0.865857 accuracy:  0.5706\n",
      "Epoch  4, CIFAR-10 Batch 5:  loss:  0.950136 accuracy:  0.5682\n",
      "Epoch  5, CIFAR-10 Batch 1:  loss:  1.13954 accuracy:  0.5778\n",
      "Epoch  5, CIFAR-10 Batch 2:  loss:  0.856961 accuracy:  0.5764\n",
      "Epoch  5, CIFAR-10 Batch 3:  loss:  0.784489 accuracy:  0.5702\n",
      "Epoch  5, CIFAR-10 Batch 4:  loss:  0.752765 accuracy:  0.5902\n",
      "Epoch  5, CIFAR-10 Batch 5:  loss:  0.818827 accuracy:  0.587\n",
      "Epoch  6, CIFAR-10 Batch 1:  loss:  1.02739 accuracy:  0.5954\n",
      "Epoch  6, CIFAR-10 Batch 2:  loss:  0.698146 accuracy:  0.5936\n",
      "Epoch  6, CIFAR-10 Batch 3:  loss:  0.603992 accuracy:  0.594\n",
      "Epoch  6, CIFAR-10 Batch 4:  loss:  0.671696 accuracy:  0.6094\n",
      "Epoch  6, CIFAR-10 Batch 5:  loss:  0.722677 accuracy:  0.5984\n",
      "Epoch  7, CIFAR-10 Batch 1:  loss:  0.93925 accuracy:  0.612\n",
      "Epoch  7, CIFAR-10 Batch 2:  loss:  0.596042 accuracy:  0.6144\n",
      "Epoch  7, CIFAR-10 Batch 3:  loss:  0.577403 accuracy:  0.6036\n",
      "Epoch  7, CIFAR-10 Batch 4:  loss:  0.580289 accuracy:  0.6252\n",
      "Epoch  7, CIFAR-10 Batch 5:  loss:  0.614085 accuracy:  0.616\n",
      "Epoch  8, CIFAR-10 Batch 1:  loss:  0.81985 accuracy:  0.6238\n",
      "Epoch  8, CIFAR-10 Batch 2:  loss:  0.499705 accuracy:  0.613\n",
      "Epoch  8, CIFAR-10 Batch 3:  loss:  0.489811 accuracy:  0.6164\n",
      "Epoch  8, CIFAR-10 Batch 4:  loss:  0.488535 accuracy:  0.6378\n",
      "Epoch  8, CIFAR-10 Batch 5:  loss:  0.554313 accuracy:  0.6282\n",
      "Epoch  9, CIFAR-10 Batch 1:  loss:  0.704212 accuracy:  0.6376\n",
      "Epoch  9, CIFAR-10 Batch 2:  loss:  0.410271 accuracy:  0.6264\n",
      "Epoch  9, CIFAR-10 Batch 3:  loss:  0.420097 accuracy:  0.6292\n",
      "Epoch  9, CIFAR-10 Batch 4:  loss:  0.429255 accuracy:  0.651\n",
      "Epoch  9, CIFAR-10 Batch 5:  loss:  0.449607 accuracy:  0.636\n",
      "Epoch 10, CIFAR-10 Batch 1:  loss:  0.671593 accuracy:  0.644\n",
      "Epoch 10, CIFAR-10 Batch 2:  loss:  0.354912 accuracy:  0.6364\n",
      "Epoch 10, CIFAR-10 Batch 3:  loss:  0.388862 accuracy:  0.6402\n",
      "Epoch 10, CIFAR-10 Batch 4:  loss:  0.369335 accuracy:  0.6584\n",
      "Epoch 10, CIFAR-10 Batch 5:  loss:  0.398068 accuracy:  0.6486\n",
      "Epoch 11, CIFAR-10 Batch 1:  loss:  0.574176 accuracy:  0.6512\n",
      "Epoch 11, CIFAR-10 Batch 2:  loss:  0.361624 accuracy:  0.6448\n",
      "Epoch 11, CIFAR-10 Batch 3:  loss:  0.352295 accuracy:  0.6438\n",
      "Epoch 11, CIFAR-10 Batch 4:  loss:  0.331953 accuracy:  0.6584\n",
      "Epoch 11, CIFAR-10 Batch 5:  loss:  0.390223 accuracy:  0.655\n",
      "Epoch 12, CIFAR-10 Batch 1:  loss:  0.54158 accuracy:  0.6496\n",
      "Epoch 12, CIFAR-10 Batch 2:  loss:  0.295413 accuracy:  0.6532\n",
      "Epoch 12, CIFAR-10 Batch 3:  loss:  0.295641 accuracy:  0.6564\n",
      "Epoch 12, CIFAR-10 Batch 4:  loss:  0.29028 accuracy:  0.665\n",
      "Epoch 12, CIFAR-10 Batch 5:  loss:  0.331911 accuracy:  0.6586\n",
      "Epoch 13, CIFAR-10 Batch 1:  loss:  0.470746 accuracy:  0.655\n",
      "Epoch 13, CIFAR-10 Batch 2:  loss:  0.260757 accuracy:  0.6562\n",
      "Epoch 13, CIFAR-10 Batch 3:  loss:  0.259891 accuracy:  0.6684\n",
      "Epoch 13, CIFAR-10 Batch 4:  loss:  0.257806 accuracy:  0.6744\n",
      "Epoch 13, CIFAR-10 Batch 5:  loss:  0.282661 accuracy:  0.6668\n",
      "Epoch 14, CIFAR-10 Batch 1:  loss:  0.435908 accuracy:  0.6604\n",
      "Epoch 14, CIFAR-10 Batch 2:  loss:  0.220467 accuracy:  0.6602\n",
      "Epoch 14, CIFAR-10 Batch 3:  loss:  0.254644 accuracy:  0.665\n",
      "Epoch 14, CIFAR-10 Batch 4:  loss:  0.226926 accuracy:  0.6696\n",
      "Epoch 14, CIFAR-10 Batch 5:  loss:  0.243731 accuracy:  0.6632\n",
      "Epoch 15, CIFAR-10 Batch 1:  loss:  0.387537 accuracy:  0.6582\n",
      "Epoch 15, CIFAR-10 Batch 2:  loss:  0.195148 accuracy:  0.6718\n",
      "Epoch 15, CIFAR-10 Batch 3:  loss:  0.200711 accuracy:  0.6842\n",
      "Epoch 15, CIFAR-10 Batch 4:  loss:  0.210309 accuracy:  0.6764\n",
      "Epoch 15, CIFAR-10 Batch 5:  loss:  0.205176 accuracy:  0.6734\n",
      "Epoch 16, CIFAR-10 Batch 1:  loss:  0.32864 accuracy:  0.6716\n",
      "Epoch 16, CIFAR-10 Batch 2:  loss:  0.178653 accuracy:  0.6706\n",
      "Epoch 16, CIFAR-10 Batch 3:  loss:  0.21481 accuracy:  0.6774\n",
      "Epoch 16, CIFAR-10 Batch 4:  loss:  0.169572 accuracy:  0.6824\n",
      "Epoch 16, CIFAR-10 Batch 5:  loss:  0.176849 accuracy:  0.6816\n",
      "Epoch 17, CIFAR-10 Batch 1:  loss:  0.306687 accuracy:  0.6706\n",
      "Epoch 17, CIFAR-10 Batch 2:  loss:  0.144258 accuracy:  0.6768\n",
      "Epoch 17, CIFAR-10 Batch 3:  loss:  0.165678 accuracy:  0.6844\n",
      "Epoch 17, CIFAR-10 Batch 4:  loss:  0.164156 accuracy:  0.6848\n",
      "Epoch 17, CIFAR-10 Batch 5:  loss:  0.160955 accuracy:  0.6868\n",
      "Epoch 18, CIFAR-10 Batch 1:  loss:  0.238951 accuracy:  0.689\n",
      "Epoch 18, CIFAR-10 Batch 2:  loss:  0.117869 accuracy:  0.6756\n",
      "Epoch 18, CIFAR-10 Batch 3:  loss:  0.150946 accuracy:  0.6822\n",
      "Epoch 18, CIFAR-10 Batch 4:  loss:  0.134598 accuracy:  0.6942\n",
      "Epoch 18, CIFAR-10 Batch 5:  loss:  0.140211 accuracy:  0.6896\n",
      "Epoch 19, CIFAR-10 Batch 1:  loss:  0.224721 accuracy:  0.685\n",
      "Epoch 19, CIFAR-10 Batch 2:  loss:  0.095979 accuracy:  0.685\n",
      "Epoch 19, CIFAR-10 Batch 3:  loss:  0.11992 accuracy:  0.685\n",
      "Epoch 19, CIFAR-10 Batch 4:  loss:  0.11727 accuracy:  0.688\n",
      "Epoch 19, CIFAR-10 Batch 5:  loss:  0.143492 accuracy:  0.6926\n",
      "Epoch 20, CIFAR-10 Batch 1:  loss:  0.170893 accuracy:  0.6868\n",
      "Epoch 20, CIFAR-10 Batch 2:  loss:  0.111537 accuracy:  0.6952\n",
      "Epoch 20, CIFAR-10 Batch 3:  loss:  0.110322 accuracy:  0.6862\n",
      "Epoch 20, CIFAR-10 Batch 4:  loss:  0.112082 accuracy:  0.6978\n",
      "Epoch 20, CIFAR-10 Batch 5:  loss:  0.108438 accuracy:  0.6882\n",
      "Epoch 21, CIFAR-10 Batch 1:  loss:  0.160194 accuracy:  0.683\n",
      "Epoch 21, CIFAR-10 Batch 2:  loss:  0.100599 accuracy:  0.6808\n",
      "Epoch 21, CIFAR-10 Batch 3:  loss:  0.0958012 accuracy:  0.6798\n",
      "Epoch 21, CIFAR-10 Batch 4:  loss:  0.102121 accuracy:  0.6926\n",
      "Epoch 21, CIFAR-10 Batch 5:  loss:  0.0899231 accuracy:  0.6928\n",
      "Epoch 22, CIFAR-10 Batch 1:  loss:  0.12947 accuracy:  0.6874\n",
      "Epoch 22, CIFAR-10 Batch 2:  loss:  0.0952027 accuracy:  0.6876\n",
      "Epoch 22, CIFAR-10 Batch 3:  loss:  0.0941355 accuracy:  0.6834\n",
      "Epoch 22, CIFAR-10 Batch 4:  loss:  0.0907446 accuracy:  0.6974\n",
      "Epoch 22, CIFAR-10 Batch 5:  loss:  0.0701078 accuracy:  0.691\n",
      "Epoch 23, CIFAR-10 Batch 1:  loss:  0.125099 accuracy:  0.6922\n",
      "Epoch 23, CIFAR-10 Batch 2:  loss:  0.0745208 accuracy:  0.6718\n",
      "Epoch 23, CIFAR-10 Batch 3:  loss:  0.0753766 accuracy:  0.6824\n",
      "Epoch 23, CIFAR-10 Batch 4:  loss:  0.0874432 accuracy:  0.7028\n",
      "Epoch 23, CIFAR-10 Batch 5:  loss:  0.0750503 accuracy:  0.6912\n",
      "Epoch 24, CIFAR-10 Batch 1:  loss:  0.112619 accuracy:  0.6996\n",
      "Epoch 24, CIFAR-10 Batch 2:  loss:  0.0729455 accuracy:  0.673\n",
      "Epoch 24, CIFAR-10 Batch 3:  loss:  0.0720194 accuracy:  0.6902\n",
      "Epoch 24, CIFAR-10 Batch 4:  loss:  0.0955864 accuracy:  0.6936\n",
      "Epoch 24, CIFAR-10 Batch 5:  loss:  0.0685605 accuracy:  0.6954\n",
      "Epoch 25, CIFAR-10 Batch 1:  loss:  0.114225 accuracy:  0.6954\n",
      "Epoch 25, CIFAR-10 Batch 2:  loss:  0.0520467 accuracy:  0.6814\n",
      "Epoch 25, CIFAR-10 Batch 3:  loss:  0.0738489 accuracy:  0.684\n",
      "Epoch 25, CIFAR-10 Batch 4:  loss:  0.0783955 accuracy:  0.695\n",
      "Epoch 25, CIFAR-10 Batch 5:  loss:  0.060273 accuracy:  0.6986\n",
      "Epoch 26, CIFAR-10 Batch 1:  loss:  0.091509 accuracy:  0.6948\n",
      "Epoch 26, CIFAR-10 Batch 2:  loss:  0.056013 accuracy:  0.677\n",
      "Epoch 26, CIFAR-10 Batch 3:  loss:  0.0676846 accuracy:  0.7\n",
      "Epoch 26, CIFAR-10 Batch 4:  loss:  0.0734253 accuracy:  0.6846\n",
      "Epoch 26, CIFAR-10 Batch 5:  loss:  0.0540401 accuracy:  0.699\n",
      "Epoch 27, CIFAR-10 Batch 1:  loss:  0.0629376 accuracy:  0.6912\n"
     ]
    },
    {
     "name": "stdout",
     "output_type": "stream",
     "text": [
      "Epoch 27, CIFAR-10 Batch 2:  loss:  0.0400551 accuracy:  0.68\n",
      "Epoch 27, CIFAR-10 Batch 3:  loss:  0.0640802 accuracy:  0.7\n",
      "Epoch 27, CIFAR-10 Batch 4:  loss:  0.0581508 accuracy:  0.6904\n",
      "Epoch 27, CIFAR-10 Batch 5:  loss:  0.0482363 accuracy:  0.7056\n",
      "Epoch 28, CIFAR-10 Batch 1:  loss:  0.0656048 accuracy:  0.692\n",
      "Epoch 28, CIFAR-10 Batch 2:  loss:  0.0419079 accuracy:  0.6744\n",
      "Epoch 28, CIFAR-10 Batch 3:  loss:  0.0654573 accuracy:  0.6946\n",
      "Epoch 28, CIFAR-10 Batch 4:  loss:  0.0584443 accuracy:  0.6912\n",
      "Epoch 28, CIFAR-10 Batch 5:  loss:  0.039328 accuracy:  0.7066\n",
      "Epoch 29, CIFAR-10 Batch 1:  loss:  0.0732746 accuracy:  0.6976\n",
      "Epoch 29, CIFAR-10 Batch 2:  loss:  0.0250062 accuracy:  0.6862\n",
      "Epoch 29, CIFAR-10 Batch 3:  loss:  0.0372884 accuracy:  0.705\n",
      "Epoch 29, CIFAR-10 Batch 4:  loss:  0.0520914 accuracy:  0.693\n",
      "Epoch 29, CIFAR-10 Batch 5:  loss:  0.0523812 accuracy:  0.7016\n",
      "Epoch 30, CIFAR-10 Batch 1:  loss:  0.0577294 accuracy:  0.6862\n",
      "Epoch 30, CIFAR-10 Batch 2:  loss:  0.0338629 accuracy:  0.6868\n",
      "Epoch 30, CIFAR-10 Batch 3:  loss:  0.0420076 accuracy:  0.6936\n",
      "Epoch 30, CIFAR-10 Batch 4:  loss:  0.0327971 accuracy:  0.6948\n",
      "Epoch 30, CIFAR-10 Batch 5:  loss:  0.0349536 accuracy:  0.6994\n",
      "Epoch 31, CIFAR-10 Batch 1:  loss:  0.0542584 accuracy:  0.6888\n",
      "Epoch 31, CIFAR-10 Batch 2:  loss:  0.0335321 accuracy:  0.6782\n",
      "Epoch 31, CIFAR-10 Batch 3:  loss:  0.0317102 accuracy:  0.693\n",
      "Epoch 31, CIFAR-10 Batch 4:  loss:  0.0386511 accuracy:  0.6984\n",
      "Epoch 31, CIFAR-10 Batch 5:  loss:  0.0294614 accuracy:  0.7024\n",
      "Epoch 32, CIFAR-10 Batch 1:  loss:  0.0480015 accuracy:  0.692\n",
      "Epoch 32, CIFAR-10 Batch 2:  loss:  0.0326241 accuracy:  0.6818\n",
      "Epoch 32, CIFAR-10 Batch 3:  loss:  0.0302066 accuracy:  0.6916\n",
      "Epoch 32, CIFAR-10 Batch 4:  loss:  0.0351886 accuracy:  0.6978\n",
      "Epoch 32, CIFAR-10 Batch 5:  loss:  0.0283129 accuracy:  0.692\n",
      "Epoch 33, CIFAR-10 Batch 1:  loss:  0.0316729 accuracy:  0.7044\n",
      "Epoch 33, CIFAR-10 Batch 2:  loss:  0.0189374 accuracy:  0.69\n",
      "Epoch 33, CIFAR-10 Batch 3:  loss:  0.0279783 accuracy:  0.6866\n",
      "Epoch 33, CIFAR-10 Batch 4:  loss:  0.0390143 accuracy:  0.6904\n",
      "Epoch 33, CIFAR-10 Batch 5:  loss:  0.0249862 accuracy:  0.7002\n",
      "Epoch 34, CIFAR-10 Batch 1:  loss:  0.0303408 accuracy:  0.7008\n",
      "Epoch 34, CIFAR-10 Batch 2:  loss:  0.0211416 accuracy:  0.6922\n",
      "Epoch 34, CIFAR-10 Batch 3:  loss:  0.0204848 accuracy:  0.6876\n",
      "Epoch 34, CIFAR-10 Batch 4:  loss:  0.0354163 accuracy:  0.6902\n",
      "Epoch 34, CIFAR-10 Batch 5:  loss:  0.0230207 accuracy:  0.6996\n",
      "Epoch 35, CIFAR-10 Batch 1:  loss:  0.0266115 accuracy:  0.7008\n",
      "Epoch 35, CIFAR-10 Batch 2:  loss:  0.0171503 accuracy:  0.697\n",
      "Epoch 35, CIFAR-10 Batch 3:  loss:  0.0212495 accuracy:  0.683\n",
      "Epoch 35, CIFAR-10 Batch 4:  loss:  0.0237225 accuracy:  0.6912\n",
      "Epoch 35, CIFAR-10 Batch 5:  loss:  0.0369048 accuracy:  0.6972\n",
      "Epoch 36, CIFAR-10 Batch 1:  loss:  0.029492 accuracy:  0.6906\n",
      "Epoch 36, CIFAR-10 Batch 2:  loss:  0.017889 accuracy:  0.6966\n",
      "Epoch 36, CIFAR-10 Batch 3:  loss:  0.0258915 accuracy:  0.6776\n",
      "Epoch 36, CIFAR-10 Batch 4:  loss:  0.0300807 accuracy:  0.693\n",
      "Epoch 36, CIFAR-10 Batch 5:  loss:  0.0229265 accuracy:  0.707\n",
      "Epoch 37, CIFAR-10 Batch 1:  loss:  0.0296639 accuracy:  0.6884\n",
      "Epoch 37, CIFAR-10 Batch 2:  loss:  0.0195941 accuracy:  0.6984\n",
      "Epoch 37, CIFAR-10 Batch 3:  loss:  0.0147818 accuracy:  0.6936\n",
      "Epoch 37, CIFAR-10 Batch 4:  loss:  0.0296934 accuracy:  0.6898\n",
      "Epoch 37, CIFAR-10 Batch 5:  loss:  0.0190455 accuracy:  0.7002\n",
      "Epoch 38, CIFAR-10 Batch 1:  loss:  0.0242465 accuracy:  0.6898\n",
      "Epoch 38, CIFAR-10 Batch 2:  loss:  0.0166174 accuracy:  0.7014\n",
      "Epoch 38, CIFAR-10 Batch 3:  loss:  0.0170898 accuracy:  0.694\n",
      "Epoch 38, CIFAR-10 Batch 4:  loss:  0.0235762 accuracy:  0.689\n",
      "Epoch 38, CIFAR-10 Batch 5:  loss:  0.0141797 accuracy:  0.6968\n",
      "Epoch 39, CIFAR-10 Batch 1:  loss:  0.0239731 accuracy:  0.6914\n",
      "Epoch 39, CIFAR-10 Batch 2:  loss:  0.018953 accuracy:  0.6988\n",
      "Epoch 39, CIFAR-10 Batch 3:  loss:  0.0161561 accuracy:  0.6906\n",
      "Epoch 39, CIFAR-10 Batch 4:  loss:  0.0169231 accuracy:  0.701\n",
      "Epoch 39, CIFAR-10 Batch 5:  loss:  0.0117639 accuracy:  0.701\n",
      "Epoch 40, CIFAR-10 Batch 1:  loss:  0.0166331 accuracy:  0.698\n",
      "Epoch 40, CIFAR-10 Batch 2:  loss:  0.0121518 accuracy:  0.6916\n",
      "Epoch 40, CIFAR-10 Batch 3:  loss:  0.0162518 accuracy:  0.6974\n",
      "Epoch 40, CIFAR-10 Batch 4:  loss:  0.0196967 accuracy:  0.6942\n",
      "Epoch 40, CIFAR-10 Batch 5:  loss:  0.0109523 accuracy:  0.6992\n",
      "Epoch 41, CIFAR-10 Batch 1:  loss:  0.0160122 accuracy:  0.7004\n",
      "Epoch 41, CIFAR-10 Batch 2:  loss:  0.0115724 accuracy:  0.698\n",
      "Epoch 41, CIFAR-10 Batch 3:  loss:  0.00985356 accuracy:  0.6902\n",
      "Epoch 41, CIFAR-10 Batch 4:  loss:  0.0148785 accuracy:  0.6954\n",
      "Epoch 41, CIFAR-10 Batch 5:  loss:  0.0102474 accuracy:  0.6958\n",
      "Epoch 42, CIFAR-10 Batch 1:  loss:  0.0197764 accuracy:  0.6912\n",
      "Epoch 42, CIFAR-10 Batch 2:  loss:  0.0101154 accuracy:  0.6954\n",
      "Epoch 42, CIFAR-10 Batch 3:  loss:  0.0142132 accuracy:  0.7002\n",
      "Epoch 42, CIFAR-10 Batch 4:  loss:  0.0170016 accuracy:  0.6876\n",
      "Epoch 42, CIFAR-10 Batch 5:  loss:  0.0105206 accuracy:  0.6962\n",
      "Epoch 43, CIFAR-10 Batch 1:  loss:  0.0141469 accuracy:  0.6868\n",
      "Epoch 43, CIFAR-10 Batch 2:  loss:  0.00927487 accuracy:  0.6996\n",
      "Epoch 43, CIFAR-10 Batch 3:  loss:  0.0134919 accuracy:  0.6914\n",
      "Epoch 43, CIFAR-10 Batch 4:  loss:  0.00896721 accuracy:  0.698\n",
      "Epoch 43, CIFAR-10 Batch 5:  loss:  0.0103825 accuracy:  0.6876\n",
      "Epoch 44, CIFAR-10 Batch 1:  loss:  0.012716 accuracy:  0.6934\n",
      "Epoch 44, CIFAR-10 Batch 2:  loss:  0.0108709 accuracy:  0.694\n",
      "Epoch 44, CIFAR-10 Batch 3:  loss:  0.00882587 accuracy:  0.696\n",
      "Epoch 44, CIFAR-10 Batch 4:  loss:  0.0175644 accuracy:  0.6968\n",
      "Epoch 44, CIFAR-10 Batch 5:  loss:  0.00674978 accuracy:  0.6868\n",
      "Epoch 45, CIFAR-10 Batch 1:  loss:  0.0120729 accuracy:  0.6954\n",
      "Epoch 45, CIFAR-10 Batch 2:  loss:  0.00866931 accuracy:  0.6936\n",
      "Epoch 45, CIFAR-10 Batch 3:  loss:  0.0074198 accuracy:  0.696\n",
      "Epoch 45, CIFAR-10 Batch 4:  loss:  0.0150548 accuracy:  0.6886\n",
      "Epoch 45, CIFAR-10 Batch 5:  loss:  0.00851398 accuracy:  0.6834\n",
      "Epoch 46, CIFAR-10 Batch 1:  loss:  0.0153103 accuracy:  0.6856\n",
      "Epoch 46, CIFAR-10 Batch 2:  loss:  0.00830656 accuracy:  0.6912\n",
      "Epoch 46, CIFAR-10 Batch 3:  loss:  0.0116207 accuracy:  0.7012\n",
      "Epoch 46, CIFAR-10 Batch 4:  loss:  0.0099966 accuracy:  0.6982\n",
      "Epoch 46, CIFAR-10 Batch 5:  loss:  0.00785737 accuracy:  0.6814\n",
      "Epoch 47, CIFAR-10 Batch 1:  loss:  0.009005 accuracy:  0.6962\n",
      "Epoch 47, CIFAR-10 Batch 2:  loss:  0.0175285 accuracy:  0.6898\n",
      "Epoch 47, CIFAR-10 Batch 3:  loss:  0.00682732 accuracy:  0.6932\n",
      "Epoch 47, CIFAR-10 Batch 4:  loss:  0.0128298 accuracy:  0.689\n",
      "Epoch 47, CIFAR-10 Batch 5:  loss:  0.0106723 accuracy:  0.684\n",
      "Epoch 48, CIFAR-10 Batch 1:  loss:  0.0107584 accuracy:  0.6856\n",
      "Epoch 48, CIFAR-10 Batch 2:  loss:  0.0104254 accuracy:  0.6918\n",
      "Epoch 48, CIFAR-10 Batch 3:  loss:  0.0091365 accuracy:  0.6958\n",
      "Epoch 48, CIFAR-10 Batch 4:  loss:  0.00977065 accuracy:  0.6864\n",
      "Epoch 48, CIFAR-10 Batch 5:  loss:  0.00695822 accuracy:  0.6872\n",
      "Epoch 49, CIFAR-10 Batch 1:  loss:  0.00755608 accuracy:  0.6922\n",
      "Epoch 49, CIFAR-10 Batch 2:  loss:  0.0106576 accuracy:  0.6884\n",
      "Epoch 49, CIFAR-10 Batch 3:  loss:  0.00650475 accuracy:  0.6926\n",
      "Epoch 49, CIFAR-10 Batch 4:  loss:  0.00761208 accuracy:  0.693\n",
      "Epoch 49, CIFAR-10 Batch 5:  loss:  0.00888644 accuracy:  0.6902\n",
      "Epoch 50, CIFAR-10 Batch 1:  loss:  0.00997411 accuracy:  0.6906\n",
      "Epoch 50, CIFAR-10 Batch 2:  loss:  0.00673792 accuracy:  0.693\n",
      "Epoch 50, CIFAR-10 Batch 3:  loss:  0.0079053 accuracy:  0.6978\n",
      "Epoch 50, CIFAR-10 Batch 4:  loss:  0.0108995 accuracy:  0.6894\n",
      "Epoch 50, CIFAR-10 Batch 5:  loss:  0.00715427 accuracy:  0.6848\n",
      "Epoch 51, CIFAR-10 Batch 1:  loss:  0.00967986 accuracy:  0.6898\n",
      "Epoch 51, CIFAR-10 Batch 2:  loss:  0.00785443 accuracy:  0.6844\n",
      "Epoch 51, CIFAR-10 Batch 3:  loss:  0.00732955 accuracy:  0.695\n",
      "Epoch 51, CIFAR-10 Batch 4:  loss:  0.0104519 accuracy:  0.6846\n",
      "Epoch 51, CIFAR-10 Batch 5:  loss:  0.00659591 accuracy:  0.6996\n",
      "Epoch 52, CIFAR-10 Batch 1:  loss:  0.00823551 accuracy:  0.6886\n",
      "Epoch 52, CIFAR-10 Batch 2:  loss:  0.00749894 accuracy:  0.6848\n",
      "Epoch 52, CIFAR-10 Batch 3:  loss:  0.0062789 accuracy:  0.6954\n",
      "Epoch 52, CIFAR-10 Batch 4:  loss:  0.0049978 accuracy:  0.6878\n"
     ]
    },
    {
     "name": "stdout",
     "output_type": "stream",
     "text": [
      "Epoch 52, CIFAR-10 Batch 5:  loss:  0.00538462 accuracy:  0.699\n",
      "Epoch 53, CIFAR-10 Batch 1:  loss:  0.00830591 accuracy:  0.6944\n",
      "Epoch 53, CIFAR-10 Batch 2:  loss:  0.00532605 accuracy:  0.6946\n",
      "Epoch 53, CIFAR-10 Batch 3:  loss:  0.00374577 accuracy:  0.6968\n",
      "Epoch 53, CIFAR-10 Batch 4:  loss:  0.00825717 accuracy:  0.693\n",
      "Epoch 53, CIFAR-10 Batch 5:  loss:  0.00370943 accuracy:  0.6922\n",
      "Epoch 54, CIFAR-10 Batch 1:  loss:  0.00634383 accuracy:  0.6906\n",
      "Epoch 54, CIFAR-10 Batch 2:  loss:  0.00658958 accuracy:  0.6868\n",
      "Epoch 54, CIFAR-10 Batch 3:  loss:  0.00563074 accuracy:  0.6928\n",
      "Epoch 54, CIFAR-10 Batch 4:  loss:  0.00660197 accuracy:  0.6956\n",
      "Epoch 54, CIFAR-10 Batch 5:  loss:  0.00492801 accuracy:  0.692\n",
      "Epoch 55, CIFAR-10 Batch 1:  loss:  0.00472416 accuracy:  0.6928\n",
      "Epoch 55, CIFAR-10 Batch 2:  loss:  0.00375997 accuracy:  0.6926\n",
      "Epoch 55, CIFAR-10 Batch 3:  loss:  0.00660734 accuracy:  0.6924\n",
      "Epoch 55, CIFAR-10 Batch 4:  loss:  0.00663955 accuracy:  0.7002\n",
      "Epoch 55, CIFAR-10 Batch 5:  loss:  0.00459157 accuracy:  0.6894\n",
      "Epoch 56, CIFAR-10 Batch 1:  loss:  0.00495198 accuracy:  0.7\n",
      "Epoch 56, CIFAR-10 Batch 2:  loss:  0.00418056 accuracy:  0.698\n",
      "Epoch 56, CIFAR-10 Batch 3:  loss:  0.00552593 accuracy:  0.6946\n",
      "Epoch 56, CIFAR-10 Batch 4:  loss:  0.00603739 accuracy:  0.6976\n",
      "Epoch 56, CIFAR-10 Batch 5:  loss:  0.00672946 accuracy:  0.6994\n",
      "Epoch 57, CIFAR-10 Batch 1:  loss:  0.00472804 accuracy:  0.6972\n",
      "Epoch 57, CIFAR-10 Batch 2:  loss:  0.00318841 accuracy:  0.695\n",
      "Epoch 57, CIFAR-10 Batch 3:  loss:  0.00767571 accuracy:  0.6988\n",
      "Epoch 57, CIFAR-10 Batch 4:  loss:  0.0046542 accuracy:  0.6982\n",
      "Epoch 57, CIFAR-10 Batch 5:  loss:  0.00558291 accuracy:  0.6912\n",
      "Epoch 58, CIFAR-10 Batch 1:  loss:  0.0119419 accuracy:  0.7\n",
      "Epoch 58, CIFAR-10 Batch 2:  loss:  0.00335166 accuracy:  0.6984\n",
      "Epoch 58, CIFAR-10 Batch 3:  loss:  0.00559194 accuracy:  0.6968\n",
      "Epoch 58, CIFAR-10 Batch 4:  loss:  0.00270337 accuracy:  0.7006\n",
      "Epoch 58, CIFAR-10 Batch 5:  loss:  0.00580252 accuracy:  0.6938\n",
      "Epoch 59, CIFAR-10 Batch 1:  loss:  0.00705512 accuracy:  0.6944\n",
      "Epoch 59, CIFAR-10 Batch 2:  loss:  0.00329508 accuracy:  0.6946\n",
      "Epoch 59, CIFAR-10 Batch 3:  loss:  0.00388911 accuracy:  0.6918\n",
      "Epoch 59, CIFAR-10 Batch 4:  loss:  0.00355538 accuracy:  0.6952\n",
      "Epoch 59, CIFAR-10 Batch 5:  loss:  0.00258437 accuracy:  0.6996\n",
      "Epoch 60, CIFAR-10 Batch 1:  loss:  0.0108639 accuracy:  0.6924\n",
      "Epoch 60, CIFAR-10 Batch 2:  loss:  0.00245266 accuracy:  0.6956\n",
      "Epoch 60, CIFAR-10 Batch 3:  loss:  0.0035086 accuracy:  0.689\n",
      "Epoch 60, CIFAR-10 Batch 4:  loss:  0.00552661 accuracy:  0.6954\n",
      "Epoch 60, CIFAR-10 Batch 5:  loss:  0.00297652 accuracy:  0.6948\n"
     ]
    }
   ],
   "source": [
    "\"\"\"\n",
    "DON'T MODIFY ANYTHING IN THIS CELL\n",
    "\"\"\"\n",
    "save_model_path = './image_classification'\n",
    "\n",
    "print('Training...')\n",
    "with tf.Session() as sess:\n",
    "    # Initializing the variables\n",
    "    sess.run(tf.global_variables_initializer())\n",
    "    \n",
    "    # Training cycle\n",
    "    for epoch in range(epochs):\n",
    "        # Loop over all batches\n",
    "        n_batches = 5\n",
    "        for batch_i in range(1, n_batches + 1):\n",
    "            for batch_features, batch_labels in helper.load_preprocess_training_batch(batch_i, batch_size):\n",
    "                train_neural_network(sess, optimizer, keep_probability, batch_features, batch_labels)\n",
    "            print('Epoch {:>2}, CIFAR-10 Batch {}:  '.format(epoch + 1, batch_i), end='')\n",
    "            print_stats(sess, batch_features, batch_labels, cost, accuracy)\n",
    "            \n",
    "    # Save Model\n",
    "    saver = tf.train.Saver()\n",
    "    save_path = saver.save(sess, save_model_path)"
   ]
  },
  {
   "cell_type": "markdown",
   "metadata": {},
   "source": [
    "# 检查点\n",
    "\n",
    "模型已保存到本地。\n",
    "\n",
    "## 测试模型\n",
    "\n",
    "利用测试数据集测试你的模型。这将是最终的准确率。你的准确率应该高于 50%。如果没达到，请继续调整模型结构和参数。"
   ]
  },
  {
   "cell_type": "code",
   "execution_count": 47,
   "metadata": {},
   "outputs": [
    {
     "name": "stdout",
     "output_type": "stream",
     "text": [
      "INFO:tensorflow:Restoring parameters from ./image_classification\n",
      "Testing Accuracy: 0.684765625\n",
      "\n"
     ]
    },
    {
     "data": {
      "image/png": "[encoded data removed]",
      "text/plain": [
       "<matplotlib.figure.Figure at 0x7f1cd05cfda0>"
      ]
     },
     "metadata": {
      "image/png": {
       "height": 319,
       "width": 355
      }
     },
     "output_type": "display_data"
    }
   ],
   "source": [
    "\"\"\"\n",
    "DON'T MODIFY ANYTHING IN THIS CELL\n",
    "\"\"\"\n",
    "%matplotlib inline\n",
    "%config InlineBackend.figure_format = 'retina'\n",
    "\n",
    "import tensorflow as tf\n",
    "import pickle\n",
    "import helper\n",
    "import random\n",
    "\n",
    "# Set batch size if not already set\n",
    "try:\n",
    "    if batch_size:\n",
    "        pass\n",
    "except NameError:\n",
    "    batch_size = 64\n",
    "\n",
    "save_model_path = './image_classification'\n",
    "n_samples = 4\n",
    "top_n_predictions = 3\n",
    "\n",
    "def test_model():\n",
    "    \"\"\"\n",
    "    Test the saved model against the test dataset\n",
    "    \"\"\"\n",
    "\n",
    "    test_features, test_labels = pickle.load(open('preprocess_test.p', mode='rb'))\n",
    "    loaded_graph = tf.Graph()\n",
    "\n",
    "    with tf.Session(graph=loaded_graph) as sess:\n",
    "        # Load model\n",
    "        loader = tf.train.import_meta_graph(save_model_path + '.meta')\n",
    "        loader.restore(sess, save_model_path)\n",
    "\n",
    "        # Get Tensors from loaded model\n",
    "        loaded_x = loaded_graph.get_tensor_by_name('x:0')\n",
    "        loaded_y = loaded_graph.get_tensor_by_name('y:0')\n",
    "        loaded_keep_prob = loaded_graph.get_tensor_by_name('keep_prob:0')\n",
    "        loaded_logits = loaded_graph.get_tensor_by_name('logits:0')\n",
    "        loaded_acc = loaded_graph.get_tensor_by_name('accuracy:0')\n",
    "        \n",
    "        # Get accuracy in batches for memory limitations\n",
    "        test_batch_acc_total = 0\n",
    "        test_batch_count = 0\n",
    "        \n",
    "        for test_feature_batch, test_label_batch in helper.batch_features_labels(test_features, test_labels, batch_size):\n",
    "            test_batch_acc_total += sess.run(\n",
    "                loaded_acc,\n",
    "                feed_dict={loaded_x: test_feature_batch, loaded_y: test_label_batch, loaded_keep_prob: 1.0})\n",
    "            test_batch_count += 1\n",
    "\n",
    "        print('Testing Accuracy: {}\\n'.format(test_batch_acc_total/test_batch_count))\n",
    "\n",
    "        # Print Random Samples\n",
    "        random_test_features, random_test_labels = tuple(zip(*random.sample(list(zip(test_features, test_labels)), n_samples)))\n",
    "        random_test_predictions = sess.run(\n",
    "            tf.nn.top_k(tf.nn.softmax(loaded_logits), top_n_predictions),\n",
    "            feed_dict={loaded_x: random_test_features, loaded_y: random_test_labels, loaded_keep_prob: 1.0})\n",
    "        helper.display_image_predictions(random_test_features, random_test_labels, random_test_predictions)\n",
    "\n",
    "\n",
    "test_model()"
   ]
  },
  {
   "cell_type": "markdown",
   "metadata": {},
   "source": [
    "## 为何准确率只有50-80%？\n",
    "\n",
    "你可能想问，为何准确率不能更高了？首先，对于简单的 CNN 网络来说，50% 已经不低了。纯粹猜测的准确率为10%。但是，你可能注意到有人的准确率[远远超过 80%](http://rodrigob.github.io/are_we_there_yet/build/classification_datasets_results.html#43494641522d3130)。这是因为我们还没有介绍所有的神经网络知识。我们还需要掌握一些其他技巧。\n",
    "\n",
    "## 提交项目\n",
    "\n",
    "提交项目时，确保先运行所有单元，然后再保存记事本。将 notebook 文件另存为“dlnd_image_classification.ipynb”，再在目录 \"File\" -> \"Download as\" 另存为 HTML 格式。请在提交的项目中包含 “helper.py” 和 “problem_unittests.py” 文件。\n"
   ]
  }
 ],
 "metadata": {
  "kernelspec": {
   "display_name": "Python 3",
   "language": "python",
   "name": "python3"
  },
  "language_info": {
   "codemirror_mode": {
    "name": "ipython",
    "version": 3
   },
   "file_extension": ".py",
   "mimetype": "text/x-python",
   "name": "python",
   "nbconvert_exporter": "python",
   "pygments_lexer": "ipython3",
   "version": "3.5.3"
  }
 },
 "nbformat": 4,
 "nbformat_minor": 1
}
